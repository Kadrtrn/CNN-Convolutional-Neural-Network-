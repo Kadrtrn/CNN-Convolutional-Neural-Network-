{
  "cells": [
    {
      "cell_type": "code",
      "execution_count": null,
      "metadata": {
        "id": "LmUdBr1mxdJR"
      },
      "outputs": [],
      "source": [
        "import numpy as np \n",
        "import pandas as pd \n",
        "from matplotlib import pyplot as plt \n",
        "\n",
        "import keras \n",
        "from keras.models import Sequential,Model,model_from_json\n",
        "from keras.layers import Dense, Conv2D, Activation, MaxPool2D, Flatten, Dropout, BatchNormalization,AveragePooling2D\n",
        "from keras.utils import np_utils\n",
        "from keras.preprocessing import image\n",
        "from keras.callbacks import ModelCheckpoint"
      ]
    },
    {
      "cell_type": "code",
      "source": [],
      "metadata": {
        "id": "UuL6_mWIkEtc"
      },
      "execution_count": null,
      "outputs": []
    },
    {
      "cell_type": "code",
      "execution_count": null,
      "metadata": {
        "id": "rl9Peiat-FbH"
      },
      "outputs": [],
      "source": [
        "#from google.colab import drive\n",
        "#drive.mount('/content/drive')"
      ]
    },
    {
      "cell_type": "code",
      "execution_count": null,
      "metadata": {
        "colab": {
          "base_uri": "https://localhost:8080/"
        },
        "id": "vn6rQr2gzfvR",
        "outputId": "6fcbeefa-d433-4763-b094-1ba6e4c80923"
      },
      "outputs": [
        {
          "output_type": "execute_result",
          "data": {
            "text/plain": [
              "(35887, 3)"
            ]
          },
          "metadata": {},
          "execution_count": 3
        }
      ],
      "source": [
        "data=pd.read_csv('/content/drive/MyDrive/Duygu_tanıma/fer2013.csv')\n",
        "data.shape"
      ]
    },
    {
      "cell_type": "code",
      "execution_count": null,
      "metadata": {
        "colab": {
          "base_uri": "https://localhost:8080/"
        },
        "id": "CrdmJFJbFBm8",
        "outputId": "6d2a8b72-b116-474a-c224-36563c1f9875"
      },
      "outputs": [
        {
          "output_type": "execute_result",
          "data": {
            "text/plain": [
              "Index(['emotion', 'pixels', 'Usage'], dtype='object')"
            ]
          },
          "metadata": {},
          "execution_count": 4
        }
      ],
      "source": [
        "data.columns"
      ]
    },
    {
      "cell_type": "code",
      "execution_count": null,
      "metadata": {
        "colab": {
          "base_uri": "https://localhost:8080/",
          "height": 206
        },
        "id": "TjAluJjw7t-t",
        "outputId": "131a6ee1-738f-4369-e897-8263d1ae80a0"
      },
      "outputs": [
        {
          "output_type": "execute_result",
          "data": {
            "text/plain": [
              "   emotion                                             pixels     Usage\n",
              "0        0  70 80 82 72 58 58 60 63 54 58 60 48 89 115 121...  Training\n",
              "1        0  151 150 147 155 148 133 111 140 170 174 182 15...  Training\n",
              "2        2  231 212 156 164 174 138 161 173 182 200 106 38...  Training\n",
              "3        4  24 32 36 30 32 23 19 20 30 41 21 22 32 34 21 1...  Training\n",
              "4        6  4 0 0 0 0 0 0 0 0 0 0 0 3 15 23 28 48 50 58 84...  Training"
            ],
            "text/html": [
              "\n",
              "  <div id=\"df-dd9da20a-d89b-4b6d-869e-733803c8d653\">\n",
              "    <div class=\"colab-df-container\">\n",
              "      <div>\n",
              "<style scoped>\n",
              "    .dataframe tbody tr th:only-of-type {\n",
              "        vertical-align: middle;\n",
              "    }\n",
              "\n",
              "    .dataframe tbody tr th {\n",
              "        vertical-align: top;\n",
              "    }\n",
              "\n",
              "    .dataframe thead th {\n",
              "        text-align: right;\n",
              "    }\n",
              "</style>\n",
              "<table border=\"1\" class=\"dataframe\">\n",
              "  <thead>\n",
              "    <tr style=\"text-align: right;\">\n",
              "      <th></th>\n",
              "      <th>emotion</th>\n",
              "      <th>pixels</th>\n",
              "      <th>Usage</th>\n",
              "    </tr>\n",
              "  </thead>\n",
              "  <tbody>\n",
              "    <tr>\n",
              "      <th>0</th>\n",
              "      <td>0</td>\n",
              "      <td>70 80 82 72 58 58 60 63 54 58 60 48 89 115 121...</td>\n",
              "      <td>Training</td>\n",
              "    </tr>\n",
              "    <tr>\n",
              "      <th>1</th>\n",
              "      <td>0</td>\n",
              "      <td>151 150 147 155 148 133 111 140 170 174 182 15...</td>\n",
              "      <td>Training</td>\n",
              "    </tr>\n",
              "    <tr>\n",
              "      <th>2</th>\n",
              "      <td>2</td>\n",
              "      <td>231 212 156 164 174 138 161 173 182 200 106 38...</td>\n",
              "      <td>Training</td>\n",
              "    </tr>\n",
              "    <tr>\n",
              "      <th>3</th>\n",
              "      <td>4</td>\n",
              "      <td>24 32 36 30 32 23 19 20 30 41 21 22 32 34 21 1...</td>\n",
              "      <td>Training</td>\n",
              "    </tr>\n",
              "    <tr>\n",
              "      <th>4</th>\n",
              "      <td>6</td>\n",
              "      <td>4 0 0 0 0 0 0 0 0 0 0 0 3 15 23 28 48 50 58 84...</td>\n",
              "      <td>Training</td>\n",
              "    </tr>\n",
              "  </tbody>\n",
              "</table>\n",
              "</div>\n",
              "      <button class=\"colab-df-convert\" onclick=\"convertToInteractive('df-dd9da20a-d89b-4b6d-869e-733803c8d653')\"\n",
              "              title=\"Convert this dataframe to an interactive table.\"\n",
              "              style=\"display:none;\">\n",
              "        \n",
              "  <svg xmlns=\"http://www.w3.org/2000/svg\" height=\"24px\"viewBox=\"0 0 24 24\"\n",
              "       width=\"24px\">\n",
              "    <path d=\"M0 0h24v24H0V0z\" fill=\"none\"/>\n",
              "    <path d=\"M18.56 5.44l.94 2.06.94-2.06 2.06-.94-2.06-.94-.94-2.06-.94 2.06-2.06.94zm-11 1L8.5 8.5l.94-2.06 2.06-.94-2.06-.94L8.5 2.5l-.94 2.06-2.06.94zm10 10l.94 2.06.94-2.06 2.06-.94-2.06-.94-.94-2.06-.94 2.06-2.06.94z\"/><path d=\"M17.41 7.96l-1.37-1.37c-.4-.4-.92-.59-1.43-.59-.52 0-1.04.2-1.43.59L10.3 9.45l-7.72 7.72c-.78.78-.78 2.05 0 2.83L4 21.41c.39.39.9.59 1.41.59.51 0 1.02-.2 1.41-.59l7.78-7.78 2.81-2.81c.8-.78.8-2.07 0-2.86zM5.41 20L4 18.59l7.72-7.72 1.47 1.35L5.41 20z\"/>\n",
              "  </svg>\n",
              "      </button>\n",
              "      \n",
              "  <style>\n",
              "    .colab-df-container {\n",
              "      display:flex;\n",
              "      flex-wrap:wrap;\n",
              "      gap: 12px;\n",
              "    }\n",
              "\n",
              "    .colab-df-convert {\n",
              "      background-color: #E8F0FE;\n",
              "      border: none;\n",
              "      border-radius: 50%;\n",
              "      cursor: pointer;\n",
              "      display: none;\n",
              "      fill: #1967D2;\n",
              "      height: 32px;\n",
              "      padding: 0 0 0 0;\n",
              "      width: 32px;\n",
              "    }\n",
              "\n",
              "    .colab-df-convert:hover {\n",
              "      background-color: #E2EBFA;\n",
              "      box-shadow: 0px 1px 2px rgba(60, 64, 67, 0.3), 0px 1px 3px 1px rgba(60, 64, 67, 0.15);\n",
              "      fill: #174EA6;\n",
              "    }\n",
              "\n",
              "    [theme=dark] .colab-df-convert {\n",
              "      background-color: #3B4455;\n",
              "      fill: #D2E3FC;\n",
              "    }\n",
              "\n",
              "    [theme=dark] .colab-df-convert:hover {\n",
              "      background-color: #434B5C;\n",
              "      box-shadow: 0px 1px 3px 1px rgba(0, 0, 0, 0.15);\n",
              "      filter: drop-shadow(0px 1px 2px rgba(0, 0, 0, 0.3));\n",
              "      fill: #FFFFFF;\n",
              "    }\n",
              "  </style>\n",
              "\n",
              "      <script>\n",
              "        const buttonEl =\n",
              "          document.querySelector('#df-dd9da20a-d89b-4b6d-869e-733803c8d653 button.colab-df-convert');\n",
              "        buttonEl.style.display =\n",
              "          google.colab.kernel.accessAllowed ? 'block' : 'none';\n",
              "\n",
              "        async function convertToInteractive(key) {\n",
              "          const element = document.querySelector('#df-dd9da20a-d89b-4b6d-869e-733803c8d653');\n",
              "          const dataTable =\n",
              "            await google.colab.kernel.invokeFunction('convertToInteractive',\n",
              "                                                     [key], {});\n",
              "          if (!dataTable) return;\n",
              "\n",
              "          const docLinkHtml = 'Like what you see? Visit the ' +\n",
              "            '<a target=\"_blank\" href=https://colab.research.google.com/notebooks/data_table.ipynb>data table notebook</a>'\n",
              "            + ' to learn more about interactive tables.';\n",
              "          element.innerHTML = '';\n",
              "          dataTable['output_type'] = 'display_data';\n",
              "          await google.colab.output.renderOutput(dataTable, element);\n",
              "          const docLink = document.createElement('div');\n",
              "          docLink.innerHTML = docLinkHtml;\n",
              "          element.appendChild(docLink);\n",
              "        }\n",
              "      </script>\n",
              "    </div>\n",
              "  </div>\n",
              "  "
            ]
          },
          "metadata": {},
          "execution_count": 5
        }
      ],
      "source": [
        "data.head()"
      ]
    },
    {
      "cell_type": "code",
      "execution_count": null,
      "metadata": {
        "colab": {
          "base_uri": "https://localhost:8080/"
        },
        "id": "UdZIe_xi7z21",
        "outputId": "b4b53444-2123-4636-9b41-9f6eb389d619"
      },
      "outputs": [
        {
          "output_type": "execute_result",
          "data": {
            "text/plain": [
              "Training       28709\n",
              "PublicTest      3589\n",
              "PrivateTest     3589\n",
              "Name: Usage, dtype: int64"
            ]
          },
          "metadata": {},
          "execution_count": 6
        }
      ],
      "source": [
        "data['Usage'].value_counts()"
      ]
    },
    {
      "cell_type": "code",
      "execution_count": null,
      "metadata": {
        "id": "Dce2DUix8qcS"
      },
      "outputs": [],
      "source": [
        "train_data=data[data.Usage=='Training']"
      ]
    },
    {
      "cell_type": "code",
      "execution_count": null,
      "metadata": {
        "colab": {
          "base_uri": "https://localhost:8080/",
          "height": 206
        },
        "id": "v5W-Q3a-_KS8",
        "outputId": "7ff2bbab-56ca-4c60-f007-ac827cc09a85"
      },
      "outputs": [
        {
          "output_type": "execute_result",
          "data": {
            "text/plain": [
              "   emotion                                             pixels     Usage\n",
              "0        0  70 80 82 72 58 58 60 63 54 58 60 48 89 115 121...  Training\n",
              "1        0  151 150 147 155 148 133 111 140 170 174 182 15...  Training\n",
              "2        2  231 212 156 164 174 138 161 173 182 200 106 38...  Training\n",
              "3        4  24 32 36 30 32 23 19 20 30 41 21 22 32 34 21 1...  Training\n",
              "4        6  4 0 0 0 0 0 0 0 0 0 0 0 3 15 23 28 48 50 58 84...  Training"
            ],
            "text/html": [
              "\n",
              "  <div id=\"df-45e871d6-b5a3-4c20-b464-230006de2ffd\">\n",
              "    <div class=\"colab-df-container\">\n",
              "      <div>\n",
              "<style scoped>\n",
              "    .dataframe tbody tr th:only-of-type {\n",
              "        vertical-align: middle;\n",
              "    }\n",
              "\n",
              "    .dataframe tbody tr th {\n",
              "        vertical-align: top;\n",
              "    }\n",
              "\n",
              "    .dataframe thead th {\n",
              "        text-align: right;\n",
              "    }\n",
              "</style>\n",
              "<table border=\"1\" class=\"dataframe\">\n",
              "  <thead>\n",
              "    <tr style=\"text-align: right;\">\n",
              "      <th></th>\n",
              "      <th>emotion</th>\n",
              "      <th>pixels</th>\n",
              "      <th>Usage</th>\n",
              "    </tr>\n",
              "  </thead>\n",
              "  <tbody>\n",
              "    <tr>\n",
              "      <th>0</th>\n",
              "      <td>0</td>\n",
              "      <td>70 80 82 72 58 58 60 63 54 58 60 48 89 115 121...</td>\n",
              "      <td>Training</td>\n",
              "    </tr>\n",
              "    <tr>\n",
              "      <th>1</th>\n",
              "      <td>0</td>\n",
              "      <td>151 150 147 155 148 133 111 140 170 174 182 15...</td>\n",
              "      <td>Training</td>\n",
              "    </tr>\n",
              "    <tr>\n",
              "      <th>2</th>\n",
              "      <td>2</td>\n",
              "      <td>231 212 156 164 174 138 161 173 182 200 106 38...</td>\n",
              "      <td>Training</td>\n",
              "    </tr>\n",
              "    <tr>\n",
              "      <th>3</th>\n",
              "      <td>4</td>\n",
              "      <td>24 32 36 30 32 23 19 20 30 41 21 22 32 34 21 1...</td>\n",
              "      <td>Training</td>\n",
              "    </tr>\n",
              "    <tr>\n",
              "      <th>4</th>\n",
              "      <td>6</td>\n",
              "      <td>4 0 0 0 0 0 0 0 0 0 0 0 3 15 23 28 48 50 58 84...</td>\n",
              "      <td>Training</td>\n",
              "    </tr>\n",
              "  </tbody>\n",
              "</table>\n",
              "</div>\n",
              "      <button class=\"colab-df-convert\" onclick=\"convertToInteractive('df-45e871d6-b5a3-4c20-b464-230006de2ffd')\"\n",
              "              title=\"Convert this dataframe to an interactive table.\"\n",
              "              style=\"display:none;\">\n",
              "        \n",
              "  <svg xmlns=\"http://www.w3.org/2000/svg\" height=\"24px\"viewBox=\"0 0 24 24\"\n",
              "       width=\"24px\">\n",
              "    <path d=\"M0 0h24v24H0V0z\" fill=\"none\"/>\n",
              "    <path d=\"M18.56 5.44l.94 2.06.94-2.06 2.06-.94-2.06-.94-.94-2.06-.94 2.06-2.06.94zm-11 1L8.5 8.5l.94-2.06 2.06-.94-2.06-.94L8.5 2.5l-.94 2.06-2.06.94zm10 10l.94 2.06.94-2.06 2.06-.94-2.06-.94-.94-2.06-.94 2.06-2.06.94z\"/><path d=\"M17.41 7.96l-1.37-1.37c-.4-.4-.92-.59-1.43-.59-.52 0-1.04.2-1.43.59L10.3 9.45l-7.72 7.72c-.78.78-.78 2.05 0 2.83L4 21.41c.39.39.9.59 1.41.59.51 0 1.02-.2 1.41-.59l7.78-7.78 2.81-2.81c.8-.78.8-2.07 0-2.86zM5.41 20L4 18.59l7.72-7.72 1.47 1.35L5.41 20z\"/>\n",
              "  </svg>\n",
              "      </button>\n",
              "      \n",
              "  <style>\n",
              "    .colab-df-container {\n",
              "      display:flex;\n",
              "      flex-wrap:wrap;\n",
              "      gap: 12px;\n",
              "    }\n",
              "\n",
              "    .colab-df-convert {\n",
              "      background-color: #E8F0FE;\n",
              "      border: none;\n",
              "      border-radius: 50%;\n",
              "      cursor: pointer;\n",
              "      display: none;\n",
              "      fill: #1967D2;\n",
              "      height: 32px;\n",
              "      padding: 0 0 0 0;\n",
              "      width: 32px;\n",
              "    }\n",
              "\n",
              "    .colab-df-convert:hover {\n",
              "      background-color: #E2EBFA;\n",
              "      box-shadow: 0px 1px 2px rgba(60, 64, 67, 0.3), 0px 1px 3px 1px rgba(60, 64, 67, 0.15);\n",
              "      fill: #174EA6;\n",
              "    }\n",
              "\n",
              "    [theme=dark] .colab-df-convert {\n",
              "      background-color: #3B4455;\n",
              "      fill: #D2E3FC;\n",
              "    }\n",
              "\n",
              "    [theme=dark] .colab-df-convert:hover {\n",
              "      background-color: #434B5C;\n",
              "      box-shadow: 0px 1px 3px 1px rgba(0, 0, 0, 0.15);\n",
              "      filter: drop-shadow(0px 1px 2px rgba(0, 0, 0, 0.3));\n",
              "      fill: #FFFFFF;\n",
              "    }\n",
              "  </style>\n",
              "\n",
              "      <script>\n",
              "        const buttonEl =\n",
              "          document.querySelector('#df-45e871d6-b5a3-4c20-b464-230006de2ffd button.colab-df-convert');\n",
              "        buttonEl.style.display =\n",
              "          google.colab.kernel.accessAllowed ? 'block' : 'none';\n",
              "\n",
              "        async function convertToInteractive(key) {\n",
              "          const element = document.querySelector('#df-45e871d6-b5a3-4c20-b464-230006de2ffd');\n",
              "          const dataTable =\n",
              "            await google.colab.kernel.invokeFunction('convertToInteractive',\n",
              "                                                     [key], {});\n",
              "          if (!dataTable) return;\n",
              "\n",
              "          const docLinkHtml = 'Like what you see? Visit the ' +\n",
              "            '<a target=\"_blank\" href=https://colab.research.google.com/notebooks/data_table.ipynb>data table notebook</a>'\n",
              "            + ' to learn more about interactive tables.';\n",
              "          element.innerHTML = '';\n",
              "          dataTable['output_type'] = 'display_data';\n",
              "          await google.colab.output.renderOutput(dataTable, element);\n",
              "          const docLink = document.createElement('div');\n",
              "          docLink.innerHTML = docLinkHtml;\n",
              "          element.appendChild(docLink);\n",
              "        }\n",
              "      </script>\n",
              "    </div>\n",
              "  </div>\n",
              "  "
            ]
          },
          "metadata": {},
          "execution_count": 8
        }
      ],
      "source": [
        "train_data.head()"
      ]
    },
    {
      "cell_type": "markdown",
      "metadata": {
        "id": "5A_Y1x9S_VZ2"
      },
      "source": [
        "Eğitim örneklerinin piksel değerleri bize tablo halinde yan yana veridiği için boşluklardan parse ederek liste haline getirelim"
      ]
    },
    {
      "cell_type": "code",
      "execution_count": null,
      "metadata": {
        "colab": {
          "base_uri": "https://localhost:8080/"
        },
        "id": "jp5zE5cZ_L4F",
        "outputId": "6864f8a5-7a47-4fe2-80cf-bec6298e1166"
      },
      "outputs": [
        {
          "output_type": "stream",
          "name": "stderr",
          "text": [
            "/usr/local/lib/python3.7/dist-packages/IPython/core/interactiveshell.py:3326: FutureWarning: Could not cast to int64, falling back to object. This behavior is deprecated. In a future version, when a dtype is passed to 'DataFrame', either all columns will be cast to that dtype, or a TypeError will be raised\n",
            "  exec(code_obj, self.user_global_ns, self.user_ns)\n"
          ]
        },
        {
          "output_type": "stream",
          "name": "stdout",
          "text": [
            "[[ 70.  80.  82. ... 106. 109.  82.]\n",
            " [151. 150. 147. ... 193. 183. 184.]\n",
            " [231. 212. 156. ...  88. 110. 152.]\n",
            " ...\n",
            " [ 74.  81.  87. ... 188. 187. 187.]\n",
            " [222. 227. 203. ... 136. 136. 134.]\n",
            " [195. 199. 205. ...   6.  15.  38.]]\n",
            "(28709, 2304)\n"
          ]
        },
        {
          "output_type": "stream",
          "name": "stderr",
          "text": [
            "/usr/local/lib/python3.7/dist-packages/ipykernel_launcher.py:4: DeprecationWarning: `np.float` is a deprecated alias for the builtin `float`. To silence this warning, use `float` by itself. Doing this will not modify any behavior and is safe. If you specifically wanted the numpy scalar type, use `np.float64` here.\n",
            "Deprecated in NumPy 1.20; for more details and guidance: https://numpy.org/devdocs/release/1.20.0-notes.html#deprecations\n",
            "  after removing the cwd from sys.path.\n"
          ]
        }
      ],
      "source": [
        "train_pixels=train_data.pixels.str.split(' ').tolist()\n",
        "train_pixels=pd.DataFrame(train_pixels,dtype=int)\n",
        "train_images=train_pixels.values\n",
        "train_images=train_images.astype(np.float)\n",
        "print(train_images)\n",
        "print(train_images.shape)"
      ]
    },
    {
      "cell_type": "markdown",
      "metadata": {
        "id": "da2Bo6RYDXpV"
      },
      "source": [
        "Rastgele bir resim gösterelim"
      ]
    },
    {
      "cell_type": "code",
      "execution_count": null,
      "metadata": {
        "colab": {
          "base_uri": "https://localhost:8080/",
          "height": 266
        },
        "id": "b2ntcR64ARtn",
        "outputId": "790e6aa7-4e49-4b54-efa2-5be4fc98fb15"
      },
      "outputs": [
        {
          "output_type": "execute_result",
          "data": {
            "text/plain": [
              "<matplotlib.image.AxesImage at 0x7efbe4ef9410>"
            ]
          },
          "metadata": {},
          "execution_count": 10
        },
        {
          "output_type": "display_data",
          "data": {
            "text/plain": [
              "<Figure size 432x288 with 1 Axes>"
            ],
            "image/png": "[encoded data removed]"
          },
          "metadata": {
            "needs_background": "light"
          }
        }
      ],
      "source": [
        "plt.axis('off')\n",
        "plt.imshow(train_images[1141].reshape(48,48),cmap='gray')"
      ]
    },
    {
      "cell_type": "code",
      "execution_count": null,
      "metadata": {
        "colab": {
          "base_uri": "https://localhost:8080/"
        },
        "id": "gBJCFs7hFLPi",
        "outputId": "8316c8cf-0b92-4935-9cd2-d420b458f659"
      },
      "outputs": [
        {
          "output_type": "stream",
          "name": "stdout",
          "text": [
            "Farklı yüz ifadelerinin sayısı : 7\n"
          ]
        }
      ],
      "source": [
        "print('Farklı yüz ifadelerinin sayısı :',len(data['emotion'].unique()))"
      ]
    },
    {
      "cell_type": "code",
      "execution_count": null,
      "metadata": {
        "colab": {
          "base_uri": "https://localhost:8080/"
        },
        "id": "FKHv98_zJSKK",
        "outputId": "6f33547e-6986-4385-aa78-ef3e2798b642"
      },
      "outputs": [
        {
          "output_type": "stream",
          "name": "stdout",
          "text": [
            "[[1 0 0 0 0 0 0]\n",
            " [1 0 0 0 0 0 0]\n",
            " [0 0 1 0 0 0 0]\n",
            " [0 0 0 0 1 0 0]\n",
            " [0 0 0 0 0 0 1]]\n",
            "(28709, 7)\n"
          ]
        }
      ],
      "source": [
        "from sklearn.preprocessing import LabelBinarizer\n",
        "y_train=train_data['emotion']\n",
        "lb=LabelBinarizer()\n",
        "y_train=lb.fit_transform(y_train).astype(np.uint8)\n",
        "print(y_train[:5])\n",
        "print(y_train.shape)"
      ]
    },
    {
      "cell_type": "code",
      "execution_count": null,
      "metadata": {
        "colab": {
          "base_uri": "https://localhost:8080/"
        },
        "id": "BoPC1u0eKEly",
        "outputId": "4e2bfc9b-d9eb-4c78-a904-c34e86229d9d"
      },
      "outputs": [
        {
          "output_type": "stream",
          "name": "stderr",
          "text": [
            "/usr/local/lib/python3.7/dist-packages/IPython/core/interactiveshell.py:3326: FutureWarning: Could not cast to int64, falling back to object. This behavior is deprecated. In a future version, when a dtype is passed to 'DataFrame', either all columns will be cast to that dtype, or a TypeError will be raised\n",
            "  exec(code_obj, self.user_global_ns, self.user_ns)\n"
          ]
        },
        {
          "output_type": "stream",
          "name": "stdout",
          "text": [
            "[[254. 254. 254. ...  42. 129. 180.]\n",
            " [156. 184. 198. ... 172. 167. 161.]\n",
            " [ 69. 118.  61. ...  88.  87.  90.]\n",
            " ...\n",
            " [255. 255. 255. ...  48.  50.  46.]\n",
            " [ 33.  25.  31. ...   4.   5.   4.]\n",
            " [ 61.  63.  59. ... 113. 165. 180.]]\n",
            "(3589, 2304)\n"
          ]
        },
        {
          "output_type": "stream",
          "name": "stderr",
          "text": [
            "/usr/local/lib/python3.7/dist-packages/ipykernel_launcher.py:6: DeprecationWarning: `np.float` is a deprecated alias for the builtin `float`. To silence this warning, use `float` by itself. Doing this will not modify any behavior and is safe. If you specifically wanted the numpy scalar type, use `np.float64` here.\n",
            "Deprecated in NumPy 1.20; for more details and guidance: https://numpy.org/devdocs/release/1.20.0-notes.html#deprecations\n",
            "  \n"
          ]
        }
      ],
      "source": [
        "val_data=data[data.Usage=='PublicTest']\n",
        "\n",
        "val_pixels=val_data.pixels.str.split(' ').tolist()\n",
        "val_pixels=pd.DataFrame(val_pixels,dtype=int)\n",
        "val_images=val_pixels.values\n",
        "val_images=val_images.astype(np.float)\n",
        "print(val_images)\n",
        "print(val_images.shape)\n"
      ]
    },
    {
      "cell_type": "code",
      "execution_count": null,
      "metadata": {
        "colab": {
          "base_uri": "https://localhost:8080/",
          "height": 266
        },
        "id": "ofZ_noGdNAxy",
        "outputId": "5a99aeb5-b633-408a-92d1-9a08dc31b004"
      },
      "outputs": [
        {
          "output_type": "execute_result",
          "data": {
            "text/plain": [
              "<matplotlib.image.AxesImage at 0x7efafe228950>"
            ]
          },
          "metadata": {},
          "execution_count": 14
        },
        {
          "output_type": "display_data",
          "data": {
            "text/plain": [
              "<Figure size 432x288 with 1 Axes>"
            ],
            "image/png": "[encoded data removed]"
          },
          "metadata": {
            "needs_background": "light"
          }
        }
      ],
      "source": [
        "plt.axis('off')\n",
        "plt.imshow(val_images[1000].reshape(48,48),cmap='gray')"
      ]
    },
    {
      "cell_type": "code",
      "execution_count": null,
      "metadata": {
        "colab": {
          "base_uri": "https://localhost:8080/"
        },
        "id": "05Po79W6NO7d",
        "outputId": "a5a2e725-589d-4571-cb20-599b79ff0a51"
      },
      "outputs": [
        {
          "output_type": "stream",
          "name": "stdout",
          "text": [
            "[[1 0 0 0 0 0 0]\n",
            " [0 1 0 0 0 0 0]\n",
            " [0 0 0 0 1 0 0]\n",
            " [0 0 0 0 0 0 1]\n",
            " [0 0 0 1 0 0 0]]\n",
            "(3589, 7)\n"
          ]
        }
      ],
      "source": [
        "y_val=val_data['emotion']\n",
        "y_val=lb.fit_transform(y_val).astype(np.uint8)\n",
        "print(y_val[:5])\n",
        "print(y_val.shape)"
      ]
    },
    {
      "cell_type": "markdown",
      "metadata": {
        "id": "ENmY42PQ0AWP"
      },
      "source": [
        "# Data Normalization"
      ]
    },
    {
      "cell_type": "code",
      "execution_count": null,
      "metadata": {
        "colab": {
          "base_uri": "https://localhost:8080/"
        },
        "id": "KDStB8Rzz_Sv",
        "outputId": "8951b051-2185-41bb-e846-0f4474e61189"
      },
      "outputs": [
        {
          "output_type": "stream",
          "name": "stdout",
          "text": [
            "Train : (28709, 2304)\n",
            "Test : (3589, 2304)\n"
          ]
        }
      ],
      "source": [
        "x_train=train_images\n",
        "x_val=val_images\n",
        "\n",
        "print('Train :',x_train.shape)\n",
        "print('Test :',x_val.shape)\n",
        "\"\"\"\n",
        "x_train = x_train.astype(np.float32)\n",
        "x_train=x_train/255\n",
        "x_train=x_train.astype(np.uint8)\n",
        "\n",
        "x_val = x_val.astype(np.float32)\n",
        "x_val=x_val/255\n",
        "x_val=x_val.astype(np.uint8)\n",
        "\"\"\"\n",
        "\n",
        "x_train=x_train.reshape(-1,48,48,1)\n",
        "x_val=x_val.reshape(-1,48,48,1)\n",
        "\n"
      ]
    },
    {
      "cell_type": "markdown",
      "metadata": {
        "id": "kyB7f_lnRP0i"
      },
      "source": [
        "# **Model Oluşturma**"
      ]
    },
    {
      "cell_type": "code",
      "execution_count": null,
      "metadata": {
        "colab": {
          "base_uri": "https://localhost:8080/"
        },
        "id": "JQSOZm3uRgDL",
        "outputId": "bdee5463-ce26-471c-e97e-cfd3624ac6ca"
      },
      "outputs": [
        {
          "output_type": "stream",
          "name": "stdout",
          "text": [
            "Model: \"sequential\"\n",
            "_________________________________________________________________\n",
            " Layer (type)                Output Shape              Param #   \n",
            "=================================================================\n",
            " conv2d (Conv2D)             (None, 46, 46, 64)        640       \n",
            "                                                                 \n",
            " batch_normalization (BatchN  (None, 46, 46, 64)       256       \n",
            " ormalization)                                                   \n",
            "                                                                 \n",
            " conv2d_1 (Conv2D)           (None, 44, 44, 64)        36928     \n",
            "                                                                 \n",
            " batch_normalization_1 (Batc  (None, 44, 44, 64)       256       \n",
            " hNormalization)                                                 \n",
            "                                                                 \n",
            " max_pooling2d (MaxPooling2D  (None, 22, 22, 64)       0         \n",
            " )                                                               \n",
            "                                                                 \n",
            " dropout (Dropout)           (None, 22, 22, 64)        0         \n",
            "                                                                 \n",
            " conv2d_2 (Conv2D)           (None, 20, 20, 32)        18464     \n",
            "                                                                 \n",
            " batch_normalization_2 (Batc  (None, 20, 20, 32)       128       \n",
            " hNormalization)                                                 \n",
            "                                                                 \n",
            " conv2d_3 (Conv2D)           (None, 18, 18, 32)        9248      \n",
            "                                                                 \n",
            " batch_normalization_3 (Batc  (None, 18, 18, 32)       128       \n",
            " hNormalization)                                                 \n",
            "                                                                 \n",
            " conv2d_4 (Conv2D)           (None, 16, 16, 32)        9248      \n",
            "                                                                 \n",
            " batch_normalization_4 (Batc  (None, 16, 16, 32)       128       \n",
            " hNormalization)                                                 \n",
            "                                                                 \n",
            " max_pooling2d_1 (MaxPooling  (None, 8, 8, 32)         0         \n",
            " 2D)                                                             \n",
            "                                                                 \n",
            " dropout_1 (Dropout)         (None, 8, 8, 32)          0         \n",
            "                                                                 \n",
            " flatten (Flatten)           (None, 2048)              0         \n",
            "                                                                 \n",
            " dense (Dense)               (None, 128)               262272    \n",
            "                                                                 \n",
            " batch_normalization_5 (Batc  (None, 128)              512       \n",
            " hNormalization)                                                 \n",
            "                                                                 \n",
            " dropout_2 (Dropout)         (None, 128)               0         \n",
            "                                                                 \n",
            " dense_1 (Dense)             (None, 7)                 903       \n",
            "                                                                 \n",
            " activation (Activation)     (None, 7)                 0         \n",
            "                                                                 \n",
            "=================================================================\n",
            "Total params: 339,111\n",
            "Trainable params: 338,407\n",
            "Non-trainable params: 704\n",
            "_________________________________________________________________\n"
          ]
        }
      ],
      "source": [
        "\n",
        "model = Sequential()\n",
        "\n",
        "#1. katman\n",
        "model.add(Conv2D(64, 3, data_format=\"channels_last\", kernel_initializer=\"he_normal\", input_shape=(48,48,1),activation='swish'))\n",
        "model.add(BatchNormalization())\n",
        "\n",
        "#2.katman\n",
        "\n",
        "model.add(Conv2D(64, 3,activation='swish'))\n",
        "model.add(BatchNormalization())\n",
        "model.add(MaxPool2D(pool_size=(2,2), strides=2))\n",
        "model.add(Dropout(0.25)) \n",
        "\n",
        "#3. katman\n",
        "model.add(Conv2D(32, 3,activation='swish'))\n",
        "model.add(BatchNormalization())\n",
        "\n",
        "\n",
        "#4. katman\n",
        "model.add(Conv2D(32, 3,activation='swish'))\n",
        "model.add(BatchNormalization())\n",
        "\n",
        "#5. katman\n",
        "model.add(Conv2D(32, 3,activation='swish'))\n",
        "model.add(BatchNormalization())\n",
        "model.add(MaxPool2D(pool_size=(2,2), strides=2))\n",
        "model.add(Dropout(0.25))\n",
        "\n",
        "#Tam bağlantı katmanı\n",
        "model.add(Flatten())\n",
        "model.add(Dense(128,activation='swish'))\n",
        "model.add(BatchNormalization())\n",
        "model.add(Dropout(0.6))\n",
        "\n",
        "# Çıkış katmanı\n",
        "\n",
        "model.add(Dense(7))\n",
        "model.add(Activation('softmax'))\n",
        "\n",
        "model.compile(loss='categorical_crossentropy', optimizer='adam', metrics=['accuracy'])\n",
        "\n",
        "model.summary()\n",
        "\n"
      ]
    },
    {
      "cell_type": "code",
      "execution_count": null,
      "metadata": {
        "colab": {
          "base_uri": "https://localhost:8080/"
        },
        "id": "klcL4-KJcJdX",
        "outputId": "37e6e3b5-22f7-46db-a33c-aa964ad4a1ca"
      },
      "outputs": [
        {
          "output_type": "stream",
          "name": "stdout",
          "text": [
            "Epoch 1/60\n",
            "\n",
            "Epoch 1: val_loss improved from inf to 4.19261, saving model to face_model.h5\n",
            "21/21 - 29s - loss: 2.5190 - accuracy: 0.2089 - val_loss: 4.1926 - val_accuracy: 0.0769 - 29s/epoch - 1s/step\n",
            "Epoch 2/60\n",
            "\n",
            "Epoch 2: val_loss improved from 4.19261 to 2.22383, saving model to face_model.h5\n",
            "21/21 - 9s - loss: 2.0005 - accuracy: 0.2995 - val_loss: 2.2238 - val_accuracy: 0.1730 - 9s/epoch - 439ms/step\n",
            "Epoch 3/60\n",
            "\n",
            "Epoch 3: val_loss improved from 2.22383 to 1.86251, saving model to face_model.h5\n",
            "21/21 - 9s - loss: 1.8350 - accuracy: 0.3629 - val_loss: 1.8625 - val_accuracy: 0.2605 - 9s/epoch - 438ms/step\n",
            "Epoch 4/60\n",
            "\n",
            "Epoch 4: val_loss improved from 1.86251 to 1.78880, saving model to face_model.h5\n",
            "21/21 - 9s - loss: 1.7143 - accuracy: 0.3896 - val_loss: 1.7888 - val_accuracy: 0.2700 - 9s/epoch - 440ms/step\n",
            "Epoch 5/60\n",
            "\n",
            "Epoch 5: val_loss improved from 1.78880 to 1.68369, saving model to face_model.h5\n",
            "21/21 - 9s - loss: 1.6548 - accuracy: 0.4122 - val_loss: 1.6837 - val_accuracy: 0.3773 - 9s/epoch - 443ms/step\n",
            "Epoch 6/60\n",
            "\n",
            "Epoch 6: val_loss improved from 1.68369 to 1.63892, saving model to face_model.h5\n",
            "21/21 - 9s - loss: 1.5846 - accuracy: 0.4299 - val_loss: 1.6389 - val_accuracy: 0.3644 - 9s/epoch - 445ms/step\n",
            "Epoch 7/60\n",
            "\n",
            "Epoch 7: val_loss improved from 1.63892 to 1.53102, saving model to face_model.h5\n",
            "21/21 - 9s - loss: 1.5293 - accuracy: 0.4435 - val_loss: 1.5310 - val_accuracy: 0.4436 - 9s/epoch - 447ms/step\n",
            "Epoch 8/60\n",
            "\n",
            "Epoch 8: val_loss improved from 1.53102 to 1.46593, saving model to face_model.h5\n",
            "21/21 - 9s - loss: 1.4858 - accuracy: 0.4643 - val_loss: 1.4659 - val_accuracy: 0.4631 - 9s/epoch - 449ms/step\n",
            "Epoch 9/60\n",
            "\n",
            "Epoch 9: val_loss improved from 1.46593 to 1.41853, saving model to face_model.h5\n",
            "21/21 - 10s - loss: 1.4468 - accuracy: 0.4703 - val_loss: 1.4185 - val_accuracy: 0.4795 - 10s/epoch - 453ms/step\n",
            "Epoch 10/60\n",
            "\n",
            "Epoch 10: val_loss improved from 1.41853 to 1.35277, saving model to face_model.h5\n",
            "21/21 - 10s - loss: 1.4225 - accuracy: 0.4847 - val_loss: 1.3528 - val_accuracy: 0.5001 - 10s/epoch - 468ms/step\n",
            "Epoch 11/60\n",
            "\n",
            "Epoch 11: val_loss improved from 1.35277 to 1.33252, saving model to face_model.h5\n",
            "21/21 - 10s - loss: 1.3826 - accuracy: 0.4968 - val_loss: 1.3325 - val_accuracy: 0.5026 - 10s/epoch - 458ms/step\n",
            "Epoch 12/60\n",
            "\n",
            "Epoch 12: val_loss improved from 1.33252 to 1.29358, saving model to face_model.h5\n",
            "21/21 - 10s - loss: 1.3582 - accuracy: 0.5038 - val_loss: 1.2936 - val_accuracy: 0.5205 - 10s/epoch - 462ms/step\n",
            "Epoch 13/60\n",
            "\n",
            "Epoch 13: val_loss improved from 1.29358 to 1.27522, saving model to face_model.h5\n",
            "21/21 - 10s - loss: 1.3311 - accuracy: 0.5110 - val_loss: 1.2752 - val_accuracy: 0.5157 - 10s/epoch - 464ms/step\n",
            "Epoch 14/60\n",
            "\n",
            "Epoch 14: val_loss improved from 1.27522 to 1.25854, saving model to face_model.h5\n",
            "21/21 - 10s - loss: 1.3000 - accuracy: 0.5202 - val_loss: 1.2585 - val_accuracy: 0.5249 - 10s/epoch - 460ms/step\n",
            "Epoch 15/60\n",
            "\n",
            "Epoch 15: val_loss improved from 1.25854 to 1.24356, saving model to face_model.h5\n",
            "21/21 - 10s - loss: 1.2756 - accuracy: 0.5294 - val_loss: 1.2436 - val_accuracy: 0.5274 - 10s/epoch - 459ms/step\n",
            "Epoch 16/60\n",
            "\n",
            "Epoch 16: val_loss improved from 1.24356 to 1.24183, saving model to face_model.h5\n",
            "21/21 - 10s - loss: 1.2628 - accuracy: 0.5343 - val_loss: 1.2418 - val_accuracy: 0.5291 - 10s/epoch - 457ms/step\n",
            "Epoch 17/60\n",
            "\n",
            "Epoch 17: val_loss improved from 1.24183 to 1.22129, saving model to face_model.h5\n",
            "21/21 - 10s - loss: 1.2447 - accuracy: 0.5442 - val_loss: 1.2213 - val_accuracy: 0.5378 - 10s/epoch - 457ms/step\n",
            "Epoch 18/60\n",
            "\n",
            "Epoch 18: val_loss improved from 1.22129 to 1.21863, saving model to face_model.h5\n",
            "21/21 - 10s - loss: 1.2250 - accuracy: 0.5500 - val_loss: 1.2186 - val_accuracy: 0.5366 - 10s/epoch - 471ms/step\n",
            "Epoch 19/60\n",
            "\n",
            "Epoch 19: val_loss improved from 1.21863 to 1.20620, saving model to face_model.h5\n",
            "21/21 - 10s - loss: 1.2157 - accuracy: 0.5504 - val_loss: 1.2062 - val_accuracy: 0.5411 - 10s/epoch - 459ms/step\n",
            "Epoch 20/60\n",
            "\n",
            "Epoch 20: val_loss improved from 1.20620 to 1.19562, saving model to face_model.h5\n",
            "21/21 - 10s - loss: 1.1917 - accuracy: 0.5596 - val_loss: 1.1956 - val_accuracy: 0.5391 - 10s/epoch - 460ms/step\n",
            "Epoch 21/60\n",
            "\n",
            "Epoch 21: val_loss did not improve from 1.19562\n",
            "21/21 - 10s - loss: 1.1717 - accuracy: 0.5645 - val_loss: 1.2025 - val_accuracy: 0.5380 - 10s/epoch - 456ms/step\n",
            "Epoch 22/60\n",
            "\n",
            "Epoch 22: val_loss improved from 1.19562 to 1.18101, saving model to face_model.h5\n",
            "21/21 - 10s - loss: 1.1623 - accuracy: 0.5706 - val_loss: 1.1810 - val_accuracy: 0.5581 - 10s/epoch - 460ms/step\n",
            "Epoch 23/60\n",
            "\n",
            "Epoch 23: val_loss improved from 1.18101 to 1.17569, saving model to face_model.h5\n",
            "21/21 - 10s - loss: 1.1494 - accuracy: 0.5717 - val_loss: 1.1757 - val_accuracy: 0.5561 - 10s/epoch - 459ms/step\n",
            "Epoch 24/60\n",
            "\n",
            "Epoch 24: val_loss improved from 1.17569 to 1.16998, saving model to face_model.h5\n",
            "21/21 - 10s - loss: 1.1311 - accuracy: 0.5791 - val_loss: 1.1700 - val_accuracy: 0.5556 - 10s/epoch - 472ms/step\n",
            "Epoch 25/60\n",
            "\n",
            "Epoch 25: val_loss improved from 1.16998 to 1.16178, saving model to face_model.h5\n",
            "21/21 - 10s - loss: 1.1134 - accuracy: 0.5861 - val_loss: 1.1618 - val_accuracy: 0.5631 - 10s/epoch - 458ms/step\n",
            "Epoch 26/60\n",
            "\n",
            "Epoch 26: val_loss improved from 1.16178 to 1.15005, saving model to face_model.h5\n",
            "21/21 - 10s - loss: 1.0967 - accuracy: 0.5910 - val_loss: 1.1500 - val_accuracy: 0.5678 - 10s/epoch - 459ms/step\n",
            "Epoch 27/60\n",
            "\n",
            "Epoch 27: val_loss did not improve from 1.15005\n",
            "21/21 - 10s - loss: 1.0901 - accuracy: 0.5947 - val_loss: 1.1573 - val_accuracy: 0.5589 - 10s/epoch - 455ms/step\n",
            "Epoch 28/60\n",
            "\n",
            "Epoch 28: val_loss improved from 1.15005 to 1.13517, saving model to face_model.h5\n",
            "21/21 - 10s - loss: 1.0725 - accuracy: 0.6020 - val_loss: 1.1352 - val_accuracy: 0.5687 - 10s/epoch - 460ms/step\n",
            "Epoch 29/60\n",
            "\n",
            "Epoch 29: val_loss did not improve from 1.13517\n",
            "21/21 - 10s - loss: 1.0575 - accuracy: 0.6086 - val_loss: 1.1352 - val_accuracy: 0.5768 - 10s/epoch - 455ms/step\n",
            "Epoch 30/60\n",
            "\n",
            "Epoch 30: val_loss improved from 1.13517 to 1.13030, saving model to face_model.h5\n",
            "21/21 - 10s - loss: 1.0394 - accuracy: 0.6132 - val_loss: 1.1303 - val_accuracy: 0.5690 - 10s/epoch - 460ms/step\n",
            "Epoch 31/60\n",
            "\n",
            "Epoch 31: val_loss did not improve from 1.13030\n",
            "21/21 - 10s - loss: 1.0284 - accuracy: 0.6181 - val_loss: 1.1389 - val_accuracy: 0.5681 - 10s/epoch - 455ms/step\n",
            "Epoch 32/60\n",
            "\n",
            "Epoch 32: val_loss improved from 1.13030 to 1.12513, saving model to face_model.h5\n",
            "21/21 - 10s - loss: 1.0153 - accuracy: 0.6228 - val_loss: 1.1251 - val_accuracy: 0.5740 - 10s/epoch - 460ms/step\n",
            "Epoch 33/60\n",
            "\n",
            "Epoch 33: val_loss did not improve from 1.12513\n",
            "21/21 - 10s - loss: 1.0035 - accuracy: 0.6250 - val_loss: 1.1272 - val_accuracy: 0.5729 - 10s/epoch - 455ms/step\n",
            "Epoch 34/60\n",
            "\n",
            "Epoch 34: val_loss did not improve from 1.12513\n",
            "21/21 - 10s - loss: 0.9932 - accuracy: 0.6272 - val_loss: 1.1318 - val_accuracy: 0.5731 - 10s/epoch - 456ms/step\n",
            "Epoch 35/60\n",
            "\n",
            "Epoch 35: val_loss improved from 1.12513 to 1.11984, saving model to face_model.h5\n",
            "21/21 - 10s - loss: 0.9852 - accuracy: 0.6303 - val_loss: 1.1198 - val_accuracy: 0.5793 - 10s/epoch - 460ms/step\n",
            "Epoch 36/60\n",
            "\n",
            "Epoch 36: val_loss improved from 1.11984 to 1.11451, saving model to face_model.h5\n",
            "21/21 - 10s - loss: 0.9684 - accuracy: 0.6395 - val_loss: 1.1145 - val_accuracy: 0.5823 - 10s/epoch - 460ms/step\n",
            "Epoch 37/60\n",
            "\n",
            "Epoch 37: val_loss did not improve from 1.11451\n",
            "21/21 - 10s - loss: 0.9535 - accuracy: 0.6452 - val_loss: 1.1183 - val_accuracy: 0.5868 - 10s/epoch - 455ms/step\n",
            "Epoch 38/60\n",
            "\n",
            "Epoch 38: val_loss improved from 1.11451 to 1.11173, saving model to face_model.h5\n",
            "21/21 - 10s - loss: 0.9450 - accuracy: 0.6482 - val_loss: 1.1117 - val_accuracy: 0.5815 - 10s/epoch - 460ms/step\n",
            "Epoch 39/60\n",
            "\n",
            "Epoch 39: val_loss did not improve from 1.11173\n",
            "21/21 - 10s - loss: 0.9337 - accuracy: 0.6503 - val_loss: 1.1175 - val_accuracy: 0.5904 - 10s/epoch - 455ms/step\n",
            "Epoch 40/60\n",
            "\n",
            "Epoch 40: val_loss did not improve from 1.11173\n",
            "21/21 - 10s - loss: 0.9191 - accuracy: 0.6583 - val_loss: 1.1163 - val_accuracy: 0.5896 - 10s/epoch - 455ms/step\n",
            "Epoch 41/60\n",
            "\n",
            "Epoch 41: val_loss did not improve from 1.11173\n",
            "21/21 - 10s - loss: 0.9109 - accuracy: 0.6594 - val_loss: 1.1189 - val_accuracy: 0.5896 - 10s/epoch - 456ms/step\n",
            "Epoch 42/60\n",
            "\n",
            "Epoch 42: val_loss did not improve from 1.11173\n",
            "21/21 - 10s - loss: 0.8964 - accuracy: 0.6705 - val_loss: 1.1195 - val_accuracy: 0.5918 - 10s/epoch - 469ms/step\n",
            "Epoch 43/60\n",
            "\n",
            "Epoch 43: val_loss improved from 1.11173 to 1.10686, saving model to face_model.h5\n",
            "21/21 - 10s - loss: 0.8901 - accuracy: 0.6701 - val_loss: 1.1069 - val_accuracy: 0.5979 - 10s/epoch - 461ms/step\n",
            "Epoch 44/60\n",
            "\n",
            "Epoch 44: val_loss did not improve from 1.10686\n",
            "21/21 - 10s - loss: 0.8733 - accuracy: 0.6730 - val_loss: 1.1199 - val_accuracy: 0.5874 - 10s/epoch - 456ms/step\n",
            "Epoch 45/60\n",
            "\n",
            "Epoch 45: val_loss did not improve from 1.10686\n",
            "21/21 - 10s - loss: 0.8622 - accuracy: 0.6787 - val_loss: 1.1173 - val_accuracy: 0.5949 - 10s/epoch - 456ms/step\n",
            "Epoch 46/60\n",
            "\n",
            "Epoch 46: val_loss did not improve from 1.10686\n",
            "21/21 - 10s - loss: 0.8630 - accuracy: 0.6785 - val_loss: 1.1307 - val_accuracy: 0.5929 - 10s/epoch - 456ms/step\n",
            "Epoch 47/60\n",
            "\n",
            "Epoch 47: val_loss did not improve from 1.10686\n",
            "21/21 - 10s - loss: 0.8528 - accuracy: 0.6791 - val_loss: 1.1360 - val_accuracy: 0.5901 - 10s/epoch - 456ms/step\n",
            "Epoch 48/60\n",
            "\n",
            "Epoch 48: val_loss did not improve from 1.10686\n",
            "21/21 - 10s - loss: 0.8416 - accuracy: 0.6840 - val_loss: 1.1381 - val_accuracy: 0.5943 - 10s/epoch - 469ms/step\n",
            "Epoch 49/60\n",
            "\n",
            "Epoch 49: val_loss did not improve from 1.10686\n",
            "21/21 - 10s - loss: 0.8366 - accuracy: 0.6852 - val_loss: 1.1386 - val_accuracy: 0.5899 - 10s/epoch - 455ms/step\n",
            "Epoch 50/60\n",
            "\n",
            "Epoch 50: val_loss did not improve from 1.10686\n",
            "21/21 - 10s - loss: 0.8213 - accuracy: 0.6927 - val_loss: 1.1396 - val_accuracy: 0.5960 - 10s/epoch - 457ms/step\n",
            "Epoch 51/60\n",
            "\n",
            "Epoch 51: val_loss did not improve from 1.10686\n",
            "21/21 - 10s - loss: 0.8186 - accuracy: 0.6958 - val_loss: 1.1308 - val_accuracy: 0.5924 - 10s/epoch - 456ms/step\n",
            "Epoch 52/60\n",
            "\n",
            "Epoch 52: val_loss did not improve from 1.10686\n",
            "21/21 - 10s - loss: 0.8039 - accuracy: 0.7008 - val_loss: 1.1411 - val_accuracy: 0.5924 - 10s/epoch - 456ms/step\n",
            "Epoch 53/60\n",
            "\n",
            "Epoch 53: val_loss did not improve from 1.10686\n",
            "21/21 - 10s - loss: 0.7987 - accuracy: 0.7029 - val_loss: 1.1554 - val_accuracy: 0.6043 - 10s/epoch - 456ms/step\n",
            "Epoch 54/60\n",
            "\n",
            "Epoch 54: val_loss did not improve from 1.10686\n",
            "21/21 - 10s - loss: 0.7923 - accuracy: 0.7072 - val_loss: 1.1522 - val_accuracy: 0.5940 - 10s/epoch - 456ms/step\n",
            "Epoch 55/60\n",
            "\n",
            "Epoch 55: val_loss did not improve from 1.10686\n",
            "21/21 - 10s - loss: 0.7807 - accuracy: 0.7083 - val_loss: 1.1466 - val_accuracy: 0.6046 - 10s/epoch - 456ms/step\n",
            "Epoch 56/60\n",
            "\n",
            "Epoch 56: val_loss did not improve from 1.10686\n",
            "21/21 - 10s - loss: 0.7764 - accuracy: 0.7111 - val_loss: 1.1533 - val_accuracy: 0.6032 - 10s/epoch - 456ms/step\n",
            "Epoch 57/60\n",
            "\n",
            "Epoch 57: val_loss did not improve from 1.10686\n",
            "21/21 - 10s - loss: 0.7628 - accuracy: 0.7181 - val_loss: 1.1602 - val_accuracy: 0.6013 - 10s/epoch - 457ms/step\n",
            "Epoch 58/60\n",
            "\n",
            "Epoch 58: val_loss did not improve from 1.10686\n",
            "21/21 - 10s - loss: 0.7595 - accuracy: 0.7200 - val_loss: 1.1486 - val_accuracy: 0.6032 - 10s/epoch - 456ms/step\n",
            "Epoch 59/60\n",
            "\n",
            "Epoch 59: val_loss did not improve from 1.10686\n",
            "21/21 - 10s - loss: 0.7556 - accuracy: 0.7188 - val_loss: 1.1605 - val_accuracy: 0.6002 - 10s/epoch - 456ms/step\n",
            "Epoch 60/60\n",
            "\n",
            "Epoch 60: val_loss did not improve from 1.10686\n",
            "21/21 - 10s - loss: 0.7389 - accuracy: 0.7230 - val_loss: 1.1689 - val_accuracy: 0.6002 - 10s/epoch - 456ms/step\n"
          ]
        }
      ],
      "source": [
        "#En başarılı ağırlıkları kaydet \n",
        "checkpointer=ModelCheckpoint('face_model.h5',verbose=1,save_best_only=True)\n",
        "\n",
        "#shuffle karışık bir şekilde görselleri almak \n",
        "hist=model.fit(x_train,y_train,\n",
        "               epochs=60,\n",
        "               shuffle=True,\n",
        "               batch_size=1400,\n",
        "               validation_data=(x_val,y_val),\n",
        "               callbacks=[checkpointer],verbose=2)\n",
        "\n"
      ]
    },
    {
      "cell_type": "markdown",
      "metadata": {
        "id": "HZJm9tMLrlbl"
      },
      "source": [
        "# **Görselleştirme**"
      ]
    },
    {
      "cell_type": "code",
      "execution_count": null,
      "metadata": {
        "id": "0a_mlJjNro7h",
        "colab": {
          "base_uri": "https://localhost:8080/",
          "height": 233
        },
        "outputId": "07a5c849-9f55-40d2-df6a-c1928abb9f2b"
      },
      "outputs": [
        {
          "output_type": "display_data",
          "data": {
            "text/plain": [
              "<Figure size 1008x216 with 2 Axes>"
            ],
            "image/png": "[encoded data removed]"
          },
          "metadata": {
            "needs_background": "light"
          }
        }
      ],
      "source": [
        "plt.figure(figsize=(14,3))\n",
        "plt.subplot(1,2,1)\n",
        "plt.suptitle('Train',fontsize=10)\n",
        "plt.ylabel('Loss',fontsize=18)\n",
        "plt.plot(hist.history['loss'],color='r',label='Traning Loss')\n",
        "plt.plot(hist.history['val_loss'],color='b',label='Validation Loss')\n",
        "plt.legend(loc='upper right')\n",
        "\n",
        "plt.subplot(1,2,2)\n",
        "plt.ylabel('Accuracy',fontsize=18)\n",
        "plt.plot(hist.history['accuracy'],color='r',label='Accuracy')\n",
        "plt.plot(hist.history['val_accuracy'],color='b',label='Validation Accuracy')\n",
        "plt.legend(loc='upper right')\n",
        "\n",
        "\n",
        "plt.show()"
      ]
    },
    {
      "cell_type": "markdown",
      "metadata": {
        "id": "yClF4YIQw_WQ"
      },
      "source": [
        "# **Test Setini Kullanmak**"
      ]
    },
    {
      "cell_type": "code",
      "execution_count": null,
      "metadata": {
        "id": "IR2pD91WxDtz",
        "colab": {
          "base_uri": "https://localhost:8080/"
        },
        "outputId": "898b2809-8ad1-4442-ade0-6a90acbd81b2"
      },
      "outputs": [
        {
          "output_type": "stream",
          "name": "stderr",
          "text": [
            "/usr/local/lib/python3.7/dist-packages/IPython/core/interactiveshell.py:3326: FutureWarning: Could not cast to int64, falling back to object. This behavior is deprecated. In a future version, when a dtype is passed to 'DataFrame', either all columns will be cast to that dtype, or a TypeError will be raised\n",
            "  exec(code_obj, self.user_global_ns, self.user_ns)\n"
          ]
        },
        {
          "output_type": "stream",
          "name": "stdout",
          "text": [
            "[[170. 118. 101. ... 159. 133. 131.]\n",
            " [  7.   5.   8. ...  72.  57.  52.]\n",
            " [232. 240. 241. ...   4.   4.   9.]\n",
            " ...\n",
            " [ 17.  17.  16. ... 154. 133. 113.]\n",
            " [ 30.  28.  28. ...  35.  30.  28.]\n",
            " [ 19.  13.  14. ... 189. 199. 201.]]\n",
            "(3589, 2304)\n",
            "[[1 0 0 0 0 0 0]\n",
            " [0 0 0 0 0 1 0]\n",
            " [0 0 0 0 0 0 1]\n",
            " [0 0 0 0 1 0 0]\n",
            " [0 0 1 0 0 0 0]]\n",
            "(3589, 7)\n"
          ]
        },
        {
          "output_type": "stream",
          "name": "stderr",
          "text": [
            "/usr/local/lib/python3.7/dist-packages/ipykernel_launcher.py:6: DeprecationWarning: `np.float` is a deprecated alias for the builtin `float`. To silence this warning, use `float` by itself. Doing this will not modify any behavior and is safe. If you specifically wanted the numpy scalar type, use `np.float64` here.\n",
            "Deprecated in NumPy 1.20; for more details and guidance: https://numpy.org/devdocs/release/1.20.0-notes.html#deprecations\n",
            "  \n"
          ]
        }
      ],
      "source": [
        "test_data=data[data.Usage=='PrivateTest']\n",
        "\n",
        "test_pixels=test_data.pixels.str.split(' ').tolist()\n",
        "test_pixels=pd.DataFrame(test_pixels,dtype=int)\n",
        "test_images=test_pixels.values\n",
        "test_images=test_images.astype(np.float)\n",
        "print(test_images)\n",
        "print(test_images.shape)\n",
        "\n",
        "y_test=test_data['emotion']\n",
        "y_test=lb.fit_transform(y_test).astype(np.uint8)\n",
        "print(y_test[:5])\n",
        "print(y_test.shape)\n",
        "\n",
        "x_test=test_images.reshape(-1,48,48,1)\n"
      ]
    },
    {
      "cell_type": "code",
      "execution_count": null,
      "metadata": {
        "id": "6X80hTAexTOj",
        "colab": {
          "base_uri": "https://localhost:8080/"
        },
        "outputId": "dc6a5571-cf12-4091-8650-37ecee72c670"
      },
      "outputs": [
        {
          "output_type": "stream",
          "name": "stdout",
          "text": [
            "113/113 [==============================] - 1s 7ms/step - loss: 1.0762 - accuracy: 0.6127\n",
            "Test Doğruluğu: % 61.27054691314697\n"
          ]
        }
      ],
      "source": [
        "score_test = model.evaluate(x_test,y_test)\n",
        "print(\"Test Doğruluğu: %\",score_test[1]*100)"
      ]
    }
  ],
  "metadata": {
    "accelerator": "GPU",
    "colab": {
      "collapsed_sections": [],
      "provenance": []
    },
    "kernelspec": {
      "display_name": "Python 3",
      "name": "python3"
    },
    "language_info": {
      "name": "python"
    }
  },
  "nbformat": 4,
  "nbformat_minor": 0
}