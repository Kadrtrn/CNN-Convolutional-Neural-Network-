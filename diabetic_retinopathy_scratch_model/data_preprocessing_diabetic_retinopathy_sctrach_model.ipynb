{
  "nbformat": 4,
  "nbformat_minor": 0,
  "metadata": {
    "colab": {
      "provenance": [],
      "collapsed_sections": []
    },
    "kernelspec": {
      "name": "python3",
      "display_name": "Python 3"
    },
    "language_info": {
      "name": "python"
    },
    "accelerator": "GPU",
    "widgets": {
      "application/vnd.jupyter.widget-state+json": {
        "4dcf0e7240234b4d86d911adfd7bfe08": {
          "model_module": "@jupyter-widgets/controls",
          "model_name": "HBoxModel",
          "model_module_version": "1.5.0",
          "state": {
            "_dom_classes": [],
            "_model_module": "@jupyter-widgets/controls",
            "_model_module_version": "1.5.0",
            "_model_name": "HBoxModel",
            "_view_count": null,
            "_view_module": "@jupyter-widgets/controls",
            "_view_module_version": "1.5.0",
            "_view_name": "HBoxView",
            "box_style": "",
            "children": [
              "IPY_MODEL_ca5262935d3b40ac879c54d8ded5dd1b",
              "IPY_MODEL_6cefbf1f8eca43deb3366f59636d1b2c",
              "IPY_MODEL_ccd9435ef5ad4f0687484a099725c86f"
            ],
            "layout": "IPY_MODEL_0dc5073369d446f5a4436163e91dd9d2"
          }
        },
        "ca5262935d3b40ac879c54d8ded5dd1b": {
          "model_module": "@jupyter-widgets/controls",
          "model_name": "HTMLModel",
          "model_module_version": "1.5.0",
          "state": {
            "_dom_classes": [],
            "_model_module": "@jupyter-widgets/controls",
            "_model_module_version": "1.5.0",
            "_model_name": "HTMLModel",
            "_view_count": null,
            "_view_module": "@jupyter-widgets/controls",
            "_view_module_version": "1.5.0",
            "_view_name": "HTMLView",
            "description": "",
            "description_tooltip": null,
            "layout": "IPY_MODEL_938acfee44194db18ba1c39f371def31",
            "placeholder": "​",
            "style": "IPY_MODEL_f21cdf3b3629429db80db1200690d4c4",
            "value": "100%"
          }
        },
        "6cefbf1f8eca43deb3366f59636d1b2c": {
          "model_module": "@jupyter-widgets/controls",
          "model_name": "FloatProgressModel",
          "model_module_version": "1.5.0",
          "state": {
            "_dom_classes": [],
            "_model_module": "@jupyter-widgets/controls",
            "_model_module_version": "1.5.0",
            "_model_name": "FloatProgressModel",
            "_view_count": null,
            "_view_module": "@jupyter-widgets/controls",
            "_view_module_version": "1.5.0",
            "_view_name": "ProgressView",
            "bar_style": "success",
            "description": "",
            "description_tooltip": null,
            "layout": "IPY_MODEL_8f112c8c47d1409aa5453368db9d4653",
            "max": 3662,
            "min": 0,
            "orientation": "horizontal",
            "style": "IPY_MODEL_d202fa5dbb964069ba8af7b8d873abf5",
            "value": 3662
          }
        },
        "ccd9435ef5ad4f0687484a099725c86f": {
          "model_module": "@jupyter-widgets/controls",
          "model_name": "HTMLModel",
          "model_module_version": "1.5.0",
          "state": {
            "_dom_classes": [],
            "_model_module": "@jupyter-widgets/controls",
            "_model_module_version": "1.5.0",
            "_model_name": "HTMLModel",
            "_view_count": null,
            "_view_module": "@jupyter-widgets/controls",
            "_view_module_version": "1.5.0",
            "_view_name": "HTMLView",
            "description": "",
            "description_tooltip": null,
            "layout": "IPY_MODEL_e002aff3c2564f6ca94f2cd58721cba9",
            "placeholder": "​",
            "style": "IPY_MODEL_943e6b458c5b46b8bd3351755b087ddd",
            "value": " 3662/3662 [26:14&lt;00:00,  1.08s/it]"
          }
        },
        "0dc5073369d446f5a4436163e91dd9d2": {
          "model_module": "@jupyter-widgets/base",
          "model_name": "LayoutModel",
          "model_module_version": "1.2.0",
          "state": {
            "_model_module": "@jupyter-widgets/base",
            "_model_module_version": "1.2.0",
            "_model_name": "LayoutModel",
            "_view_count": null,
            "_view_module": "@jupyter-widgets/base",
            "_view_module_version": "1.2.0",
            "_view_name": "LayoutView",
            "align_content": null,
            "align_items": null,
            "align_self": null,
            "border": null,
            "bottom": null,
            "display": null,
            "flex": null,
            "flex_flow": null,
            "grid_area": null,
            "grid_auto_columns": null,
            "grid_auto_flow": null,
            "grid_auto_rows": null,
            "grid_column": null,
            "grid_gap": null,
            "grid_row": null,
            "grid_template_areas": null,
            "grid_template_columns": null,
            "grid_template_rows": null,
            "height": null,
            "justify_content": null,
            "justify_items": null,
            "left": null,
            "margin": null,
            "max_height": null,
            "max_width": null,
            "min_height": null,
            "min_width": null,
            "object_fit": null,
            "object_position": null,
            "order": null,
            "overflow": null,
            "overflow_x": null,
            "overflow_y": null,
            "padding": null,
            "right": null,
            "top": null,
            "visibility": null,
            "width": null
          }
        },
        "938acfee44194db18ba1c39f371def31": {
          "model_module": "@jupyter-widgets/base",
          "model_name": "LayoutModel",
          "model_module_version": "1.2.0",
          "state": {
            "_model_module": "@jupyter-widgets/base",
            "_model_module_version": "1.2.0",
            "_model_name": "LayoutModel",
            "_view_count": null,
            "_view_module": "@jupyter-widgets/base",
            "_view_module_version": "1.2.0",
            "_view_name": "LayoutView",
            "align_content": null,
            "align_items": null,
            "align_self": null,
            "border": null,
            "bottom": null,
            "display": null,
            "flex": null,
            "flex_flow": null,
            "grid_area": null,
            "grid_auto_columns": null,
            "grid_auto_flow": null,
            "grid_auto_rows": null,
            "grid_column": null,
            "grid_gap": null,
            "grid_row": null,
            "grid_template_areas": null,
            "grid_template_columns": null,
            "grid_template_rows": null,
            "height": null,
            "justify_content": null,
            "justify_items": null,
            "left": null,
            "margin": null,
            "max_height": null,
            "max_width": null,
            "min_height": null,
            "min_width": null,
            "object_fit": null,
            "object_position": null,
            "order": null,
            "overflow": null,
            "overflow_x": null,
            "overflow_y": null,
            "padding": null,
            "right": null,
            "top": null,
            "visibility": null,
            "width": null
          }
        },
        "f21cdf3b3629429db80db1200690d4c4": {
          "model_module": "@jupyter-widgets/controls",
          "model_name": "DescriptionStyleModel",
          "model_module_version": "1.5.0",
          "state": {
            "_model_module": "@jupyter-widgets/controls",
            "_model_module_version": "1.5.0",
            "_model_name": "DescriptionStyleModel",
            "_view_count": null,
            "_view_module": "@jupyter-widgets/base",
            "_view_module_version": "1.2.0",
            "_view_name": "StyleView",
            "description_width": ""
          }
        },
        "8f112c8c47d1409aa5453368db9d4653": {
          "model_module": "@jupyter-widgets/base",
          "model_name": "LayoutModel",
          "model_module_version": "1.2.0",
          "state": {
            "_model_module": "@jupyter-widgets/base",
            "_model_module_version": "1.2.0",
            "_model_name": "LayoutModel",
            "_view_count": null,
            "_view_module": "@jupyter-widgets/base",
            "_view_module_version": "1.2.0",
            "_view_name": "LayoutView",
            "align_content": null,
            "align_items": null,
            "align_self": null,
            "border": null,
            "bottom": null,
            "display": null,
            "flex": null,
            "flex_flow": null,
            "grid_area": null,
            "grid_auto_columns": null,
            "grid_auto_flow": null,
            "grid_auto_rows": null,
            "grid_column": null,
            "grid_gap": null,
            "grid_row": null,
            "grid_template_areas": null,
            "grid_template_columns": null,
            "grid_template_rows": null,
            "height": null,
            "justify_content": null,
            "justify_items": null,
            "left": null,
            "margin": null,
            "max_height": null,
            "max_width": null,
            "min_height": null,
            "min_width": null,
            "object_fit": null,
            "object_position": null,
            "order": null,
            "overflow": null,
            "overflow_x": null,
            "overflow_y": null,
            "padding": null,
            "right": null,
            "top": null,
            "visibility": null,
            "width": null
          }
        },
        "d202fa5dbb964069ba8af7b8d873abf5": {
          "model_module": "@jupyter-widgets/controls",
          "model_name": "ProgressStyleModel",
          "model_module_version": "1.5.0",
          "state": {
            "_model_module": "@jupyter-widgets/controls",
            "_model_module_version": "1.5.0",
            "_model_name": "ProgressStyleModel",
            "_view_count": null,
            "_view_module": "@jupyter-widgets/base",
            "_view_module_version": "1.2.0",
            "_view_name": "StyleView",
            "bar_color": null,
            "description_width": ""
          }
        },
        "e002aff3c2564f6ca94f2cd58721cba9": {
          "model_module": "@jupyter-widgets/base",
          "model_name": "LayoutModel",
          "model_module_version": "1.2.0",
          "state": {
            "_model_module": "@jupyter-widgets/base",
            "_model_module_version": "1.2.0",
            "_model_name": "LayoutModel",
            "_view_count": null,
            "_view_module": "@jupyter-widgets/base",
            "_view_module_version": "1.2.0",
            "_view_name": "LayoutView",
            "align_content": null,
            "align_items": null,
            "align_self": null,
            "border": null,
            "bottom": null,
            "display": null,
            "flex": null,
            "flex_flow": null,
            "grid_area": null,
            "grid_auto_columns": null,
            "grid_auto_flow": null,
            "grid_auto_rows": null,
            "grid_column": null,
            "grid_gap": null,
            "grid_row": null,
            "grid_template_areas": null,
            "grid_template_columns": null,
            "grid_template_rows": null,
            "height": null,
            "justify_content": null,
            "justify_items": null,
            "left": null,
            "margin": null,
            "max_height": null,
            "max_width": null,
            "min_height": null,
            "min_width": null,
            "object_fit": null,
            "object_position": null,
            "order": null,
            "overflow": null,
            "overflow_x": null,
            "overflow_y": null,
            "padding": null,
            "right": null,
            "top": null,
            "visibility": null,
            "width": null
          }
        },
        "943e6b458c5b46b8bd3351755b087ddd": {
          "model_module": "@jupyter-widgets/controls",
          "model_name": "DescriptionStyleModel",
          "model_module_version": "1.5.0",
          "state": {
            "_model_module": "@jupyter-widgets/controls",
            "_model_module_version": "1.5.0",
            "_model_name": "DescriptionStyleModel",
            "_view_count": null,
            "_view_module": "@jupyter-widgets/base",
            "_view_module_version": "1.2.0",
            "_view_name": "StyleView",
            "description_width": ""
          }
        }
      }
    }
  },
  "cells": [
    {
      "cell_type": "code",
      "execution_count": null,
      "metadata": {
        "colab": {
          "base_uri": "https://localhost:8080/"
        },
        "id": "HAH2jvpNVUpe",
        "outputId": "2459c8db-ff6c-44a6-febf-a8cd09feb011"
      },
      "outputs": [
        {
          "output_type": "stream",
          "name": "stdout",
          "text": [
            "Drive already mounted at /content/drive; to attempt to forcibly remount, call drive.mount(\"/content/drive\", force_remount=True).\n"
          ]
        }
      ],
      "source": [
        "from google.colab import drive\n",
        "drive.mount('/content/drive')"
      ]
    },
    {
      "cell_type": "code",
      "source": [
        "import pandas as pd \n",
        "df=pd.read_csv('/content/drive/MyDrive/diyabetik_retinopi_veri_seti /train.csv',sep=',')"
      ],
      "metadata": {
        "id": "3UR_Zxp3VcqW"
      },
      "execution_count": null,
      "outputs": []
    },
    {
      "cell_type": "code",
      "source": [
        "import os \n",
        "files=os.listdir('/content/drive/MyDrive/diyabetik_retinopi_veri_seti /train_images')\n",
        "files.sort()"
      ],
      "metadata": {
        "id": "-2vfsWLbVule"
      },
      "execution_count": null,
      "outputs": []
    },
    {
      "cell_type": "code",
      "source": [
        "#Ram yetmediği için resim boyutunu 400 400 den 300 300 e indiriyorum\n",
        "\n",
        "import cv2 \n",
        "img_list=[]\n",
        "from tqdm import tqdm_notebook as tqdm\n",
        "for i in tqdm(files):\n",
        "\n",
        "  image=cv2.imread('/content/drive/MyDrive/diyabetik_retinopi_veri_seti /train_images//' + i)\n",
        "  image=cv2.resize(image,(300,300))\n",
        "  image=cv2.cvtColor(image,cv2.COLOR_BGR2RGB)\n",
        "  kopya=image.copy()\n",
        "  kopya=cv2.cvtColor(kopya,cv2.COLOR_RGB2GRAY)\n",
        "  blur=cv2.GaussianBlur(kopya,(5,5),0)\n",
        "  thresh=cv2.threshold(blur,10,255,cv2.THRESH_BINARY)[1]\n",
        "  kontur=cv2.findContours(thresh.copy(),cv2.RETR_EXTERNAL,cv2.CHAIN_APPROX_SIMPLE)\n",
        "  kontur=kontur[0][0]\n",
        "  kontur=kontur[:,0,:]\n",
        "  x1=tuple(kontur[kontur[:,0].argmin()])[0]\n",
        "  x2=tuple(kontur[kontur[:,0].argmax()])[0]\n",
        "  y1=tuple(kontur[kontur[:,1].argmin()])[1]\n",
        "  y2=tuple(kontur[kontur[:,1].argmax()])[1]\n",
        "  x=int(x2-x1)*4//50\n",
        "  y=int(y2-y1)*5//50\n",
        "  kopya2=image.copy()\n",
        "  #Bazı resimler kendiliğinden kırpılmış olabilir onları kırpma işlemine dahil etmemek için aşağıdaki if bloğunu koyuyorum unutma!!!!\n",
        "  if x2-x1>100 and y2-y1>100:\n",
        "    kopya2=kopya2[ y1+y:y2-y , x1+x:x2-x]\n",
        "    kopya2=cv2.resize(kopya2,(300,300))\n",
        "  lab=cv2.cvtColor(kopya2,cv2.COLOR_RGB2LAB)\n",
        "  l,a,b=cv2.split(lab)\n",
        "  clahe=cv2.createCLAHE(clipLimit=5.0,tileGridSize=((8,8)))\n",
        "  cl=clahe.apply(l)\n",
        "  limg=cv2.merge((cl,a,b))\n",
        "  son=cv2.cvtColor(limg,cv2.COLOR_LAB2RGB)\n",
        "  med_son=cv2.medianBlur(son,3)\n",
        "  arka_plan=cv2.medianBlur(son,37)\n",
        "  maske=cv2.addWeighted(med_son,1,arka_plan,-1,255)\n",
        "  son_img=cv2.bitwise_and(maske,med_son)\n",
        "  img_list.append(son_img)"
      ],
      "metadata": {
        "colab": {
          "base_uri": "https://localhost:8080/",
          "height": 101,
          "referenced_widgets": [
            "4dcf0e7240234b4d86d911adfd7bfe08",
            "ca5262935d3b40ac879c54d8ded5dd1b",
            "6cefbf1f8eca43deb3366f59636d1b2c",
            "ccd9435ef5ad4f0687484a099725c86f",
            "0dc5073369d446f5a4436163e91dd9d2",
            "938acfee44194db18ba1c39f371def31",
            "f21cdf3b3629429db80db1200690d4c4",
            "8f112c8c47d1409aa5453368db9d4653",
            "d202fa5dbb964069ba8af7b8d873abf5",
            "e002aff3c2564f6ca94f2cd58721cba9",
            "943e6b458c5b46b8bd3351755b087ddd"
          ]
        },
        "id": "Z0dVubecV6-1",
        "outputId": "a4aff9b9-7797-451c-e69d-b5e1ca63e017"
      },
      "execution_count": null,
      "outputs": [
        {
          "output_type": "stream",
          "name": "stderr",
          "text": [
            "/usr/local/lib/python3.7/dist-packages/ipykernel_launcher.py:6: TqdmDeprecationWarning: This function will be removed in tqdm==5.0.0\n",
            "Please use `tqdm.notebook.tqdm` instead of `tqdm.tqdm_notebook`\n",
            "  \n"
          ]
        },
        {
          "output_type": "display_data",
          "data": {
            "text/plain": [
              "  0%|          | 0/3662 [00:00<?, ?it/s]"
            ],
            "application/vnd.jupyter.widget-view+json": {
              "version_major": 2,
              "version_minor": 0,
              "model_id": "4dcf0e7240234b4d86d911adfd7bfe08"
            }
          },
          "metadata": {}
        }
      ]
    },
    {
      "cell_type": "code",
      "source": [
        "y_train=pd.get_dummies(df['diagnosis']).values\n",
        "import numpy as np\n",
        "y_train_son=np.ones(y_train.shape,dtype='uint8')\n",
        "y_train_son[:,4]=y_train[:,4]\n",
        "for i in range(3,-1,-1):\n",
        "  y_train_son[:,i]=np.logical_or(y_train[:,i],y_train_son[:,i+1])\n",
        "x_train=np.array(img_list)\n",
        "\n",
        "x_train = x_train.astype(np.float32)\n",
        "x_train=x_train/255\n",
        "x_train=x_train.astype(np.uint8)\n",
        "\n",
        "\n",
        "\n",
        "from sklearn.model_selection import train_test_split\n",
        "x_train,x_val,y_train,y_val=train_test_split(x_train,\n",
        "                                             y_train_son,\n",
        "                                             test_size=0.15,\n",
        "                                             random_state=42,\n",
        "                                             shuffle=True)\n",
        "\n",
        "from keras.preprocessing.image import ImageDataGenerator\n",
        "datagen=ImageDataGenerator(horizontal_flip=True,vertical_flip=True)\n",
        "data_generator=datagen.flow(x_train,y_train,batch_size=2,seed=2020)"
      ],
      "metadata": {
        "id": "x3LBTmJcjji-"
      },
      "execution_count": null,
      "outputs": []
    },
    {
      "cell_type": "code",
      "source": [
        "import keras \n",
        "from keras.models import Sequential,Model\n",
        "from keras.layers import Dense, Conv2D, Activation, MaxPool2D, Flatten, Dropout, BatchNormalization,AveragePooling2D\n",
        "from keras.optimizers import Adam \n",
        "from keras import layers\n"
      ],
      "metadata": {
        "id": "jHHZjzBqlHgz"
      },
      "execution_count": null,
      "outputs": []
    },
    {
      "cell_type": "code",
      "source": [
        "model = Sequential()\n",
        "\n",
        "#1. katman\n",
        "model.add(Conv2D(64, 3, data_format=\"channels_last\", kernel_initializer=\"he_normal\", input_shape=(300,300,3),activation='swish'))\n",
        "model.add(BatchNormalization())\n",
        "\n",
        "#2.katman\n",
        "\n",
        "model.add(Conv2D(64, 3,activation='swish'))\n",
        "model.add(BatchNormalization())\n",
        "model.add(MaxPool2D(pool_size=(2,2)))\n",
        "model.add(Dropout(0.25)) \n",
        "\n",
        "#3. katman\n",
        "model.add(Conv2D(32, 3,activation='swish'))\n",
        "model.add(BatchNormalization())\n",
        "\n",
        "\n",
        "#4. katman\n",
        "model.add(Conv2D(32, 3,activation='swish'))\n",
        "model.add(BatchNormalization())\n",
        "\n",
        "#5. katman\n",
        "model.add(Conv2D(32, 3,activation='swish'))\n",
        "model.add(BatchNormalization())\n",
        "model.add(MaxPool2D(pool_size=(2,2)))\n",
        "model.add(Dropout(0.25))\n",
        "\n",
        "#Tam bağlantı katmanı\n",
        "model.add(layers.GlobalAveragePooling2D())\n",
        "model.add(Dense(128,activation='swish'))\n",
        "model.add(BatchNormalization())\n",
        "model.add(Dropout(0.2))\n",
        "\n",
        "# Çıkış katmanı\n",
        "\n",
        "model.add(Dense(5))\n",
        "model.add(Activation('sigmoid'))\n",
        "\n",
        "model.compile(loss='binary_crossentropy',optimizer=Adam(lr=0.00005),metrics=['accuracy'])\n",
        "\n",
        "from keras.callbacks import  ReduceLROnPlateau\n",
        "\n",
        "lr=ReduceLROnPlateau(monitor='val_loss',\n",
        "                     patience=3,\n",
        "                     verbose=1,\n",
        "                     mode='auto',\n",
        "                     factor=0.25,\n",
        "                     min_lr=0.000001)\n",
        "                     \n",
        "model.summary()\n"
      ],
      "metadata": {
        "colab": {
          "base_uri": "https://localhost:8080/"
        },
        "id": "pTLzqqRIXdqf",
        "outputId": "5b9b49e1-80c0-4395-9182-6c6baf4671df"
      },
      "execution_count": null,
      "outputs": [
        {
          "output_type": "stream",
          "name": "stdout",
          "text": [
            "Model: \"sequential_4\"\n",
            "_________________________________________________________________\n",
            " Layer (type)                Output Shape              Param #   \n",
            "=================================================================\n",
            " conv2d_20 (Conv2D)          (None, 298, 298, 64)      1792      \n",
            "                                                                 \n",
            " batch_normalization_23 (Bat  (None, 298, 298, 64)     256       \n",
            " chNormalization)                                                \n",
            "                                                                 \n",
            " conv2d_21 (Conv2D)          (None, 296, 296, 64)      36928     \n",
            "                                                                 \n",
            " batch_normalization_24 (Bat  (None, 296, 296, 64)     256       \n",
            " chNormalization)                                                \n",
            "                                                                 \n",
            " max_pooling2d_8 (MaxPooling  (None, 148, 148, 64)     0         \n",
            " 2D)                                                             \n",
            "                                                                 \n",
            " dropout_11 (Dropout)        (None, 148, 148, 64)      0         \n",
            "                                                                 \n",
            " conv2d_22 (Conv2D)          (None, 146, 146, 32)      18464     \n",
            "                                                                 \n",
            " batch_normalization_25 (Bat  (None, 146, 146, 32)     128       \n",
            " chNormalization)                                                \n",
            "                                                                 \n",
            " conv2d_23 (Conv2D)          (None, 144, 144, 32)      9248      \n",
            "                                                                 \n",
            " batch_normalization_26 (Bat  (None, 144, 144, 32)     128       \n",
            " chNormalization)                                                \n",
            "                                                                 \n",
            " conv2d_24 (Conv2D)          (None, 142, 142, 32)      9248      \n",
            "                                                                 \n",
            " batch_normalization_27 (Bat  (None, 142, 142, 32)     128       \n",
            " chNormalization)                                                \n",
            "                                                                 \n",
            " max_pooling2d_9 (MaxPooling  (None, 71, 71, 32)       0         \n",
            " 2D)                                                             \n",
            "                                                                 \n",
            " dropout_12 (Dropout)        (None, 71, 71, 32)        0         \n",
            "                                                                 \n",
            " global_average_pooling2d (G  (None, 32)               0         \n",
            " lobalAveragePooling2D)                                          \n",
            "                                                                 \n",
            " dense_6 (Dense)             (None, 128)               4224      \n",
            "                                                                 \n",
            " batch_normalization_28 (Bat  (None, 128)              512       \n",
            " chNormalization)                                                \n",
            "                                                                 \n",
            " dropout_13 (Dropout)        (None, 128)               0         \n",
            "                                                                 \n",
            " dense_7 (Dense)             (None, 5)                 645       \n",
            "                                                                 \n",
            " activation_3 (Activation)   (None, 5)                 0         \n",
            "                                                                 \n",
            "=================================================================\n",
            "Total params: 81,957\n",
            "Trainable params: 81,253\n",
            "Non-trainable params: 704\n",
            "_________________________________________________________________\n"
          ]
        }
      ]
    },
    {
      "cell_type": "code",
      "source": [
        "history=model.fit_generator(data_generator,\n",
        "                            steps_per_epoch=1000,\n",
        "                            epochs=15,\n",
        "                            validation_data=(x_val,y_val),\n",
        "                            callbacks=[lr])"
      ],
      "metadata": {
        "colab": {
          "base_uri": "https://localhost:8080/"
        },
        "id": "mQ4ggRK8aClr",
        "outputId": "ed7dd819-d9e8-4166-8611-2c6c0a23f5ee"
      },
      "execution_count": null,
      "outputs": [
        {
          "output_type": "stream",
          "name": "stdout",
          "text": [
            "Epoch 1/15\n"
          ]
        },
        {
          "output_type": "stream",
          "name": "stderr",
          "text": [
            "/usr/local/lib/python3.7/dist-packages/ipykernel_launcher.py:5: UserWarning: `Model.fit_generator` is deprecated and will be removed in a future version. Please use `Model.fit`, which supports generators.\n",
            "  \"\"\"\n"
          ]
        },
        {
          "output_type": "stream",
          "name": "stdout",
          "text": [
            "1000/1000 [==============================] - 37s 36ms/step - loss: 0.6861 - accuracy: 0.3955 - val_loss: 1.0805 - val_accuracy: 0.0055 - lr: 5.0000e-05\n",
            "Epoch 2/15\n",
            "1000/1000 [==============================] - 36s 36ms/step - loss: 0.6020 - accuracy: 0.6780 - val_loss: 0.9906 - val_accuracy: 0.0182 - lr: 5.0000e-05\n",
            "Epoch 3/15\n",
            "1000/1000 [==============================] - 35s 35ms/step - loss: 0.5326 - accuracy: 0.8620 - val_loss: 0.5566 - val_accuracy: 0.9436 - lr: 5.0000e-05\n",
            "Epoch 4/15\n",
            "1000/1000 [==============================] - 35s 35ms/step - loss: 0.4780 - accuracy: 0.9140 - val_loss: 0.5189 - val_accuracy: 0.6655 - lr: 5.0000e-05\n",
            "Epoch 5/15\n",
            "1000/1000 [==============================] - 35s 35ms/step - loss: 0.4483 - accuracy: 0.9690 - val_loss: 0.4427 - val_accuracy: 0.8655 - lr: 5.0000e-05\n",
            "Epoch 6/15\n",
            "1000/1000 [==============================] - 36s 36ms/step - loss: 0.4178 - accuracy: 0.9930 - val_loss: 0.5671 - val_accuracy: 0.9527 - lr: 5.0000e-05\n",
            "Epoch 7/15\n",
            "1000/1000 [==============================] - 36s 36ms/step - loss: 0.4082 - accuracy: 0.9990 - val_loss: 0.4660 - val_accuracy: 0.9236 - lr: 5.0000e-05\n",
            "Epoch 8/15\n",
            "1000/1000 [==============================] - 35s 35ms/step - loss: 0.3988 - accuracy: 0.9980 - val_loss: 0.4250 - val_accuracy: 0.9200 - lr: 5.0000e-05\n",
            "Epoch 9/15\n",
            "1000/1000 [==============================] - 35s 35ms/step - loss: 0.3990 - accuracy: 1.0000 - val_loss: 0.4063 - val_accuracy: 0.9727 - lr: 5.0000e-05\n",
            "Epoch 10/15\n",
            "1000/1000 [==============================] - 35s 35ms/step - loss: 0.3843 - accuracy: 0.9985 - val_loss: 0.4388 - val_accuracy: 0.9727 - lr: 5.0000e-05\n",
            "Epoch 11/15\n",
            "1000/1000 [==============================] - 35s 35ms/step - loss: 0.3779 - accuracy: 1.0000 - val_loss: 0.4624 - val_accuracy: 0.9891 - lr: 5.0000e-05\n",
            "Epoch 12/15\n",
            "1000/1000 [==============================] - 36s 36ms/step - loss: 0.3787 - accuracy: 1.0000 - val_loss: 0.3937 - val_accuracy: 0.9600 - lr: 5.0000e-05\n",
            "Epoch 13/15\n",
            "1000/1000 [==============================] - 36s 36ms/step - loss: 0.3656 - accuracy: 1.0000 - val_loss: 0.7934 - val_accuracy: 0.5527 - lr: 5.0000e-05\n",
            "Epoch 14/15\n",
            "1000/1000 [==============================] - 35s 35ms/step - loss: 0.3839 - accuracy: 1.0000 - val_loss: 0.7384 - val_accuracy: 0.9982 - lr: 5.0000e-05\n",
            "Epoch 15/15\n",
            " 999/1000 [============================>.] - ETA: 0s - loss: 0.3752 - accuracy: 1.0000\n",
            "Epoch 15: ReduceLROnPlateau reducing learning rate to 1.249999968422344e-05.\n",
            "1000/1000 [==============================] - 35s 35ms/step - loss: 0.3754 - accuracy: 1.0000 - val_loss: 0.5534 - val_accuracy: 0.9818 - lr: 5.0000e-05\n"
          ]
        }
      ]
    },
    {
      "cell_type": "markdown",
      "source": [
        "??????????????????????????????????????????????????????????????????????????????????----------------------------------------------------------------------------------------\n",
        "\n",
        "**Flatten--> softmax -->loss=categorical_crossentropy -->15 epoch -->best epoch =15 -->**\n",
        "**loss: 3.8833 - accuracy: 0.9420 - val_loss: 4.7653 - val_accuracy: 0.9073 - lr: 1.0000e-06**\n",
        "\n",
        "**GlobalAveragePooling2D -->loss=binary_crossentropy--> 15 epoch-->best epoch=14 -->** \n",
        "**loss: 0.3839 - accuracy: 1.0000 - val_loss: 0.7384 - val_accuracy: 0.9982 - lr: 5.0000e-05**"
      ],
      "metadata": {
        "id": "S-jXviC02ao_"
      }
    },
    {
      "cell_type": "code",
      "source": [
        "from matplotlib import pyplot as plt \n",
        "plt.figure(figsize=(14,3))\n",
        "plt.subplot(1,2,1)\n",
        "plt.suptitle('Train',fontsize=10)\n",
        "plt.ylabel('Loss',fontsize=18)\n",
        "plt.plot(history.history['loss'],color='r',label='Traning Loss')\n",
        "plt.plot(history.history['val_loss'],color='b',label='Validation Loss')\n",
        "plt.legend(loc='upper right')\n",
        "\n",
        "plt.subplot(1,2,2)\n",
        "plt.ylabel('Accuracy',fontsize=18)\n",
        "plt.plot(history.history['accuracy'],color='r',label='Accuracy')\n",
        "plt.plot(history.history['val_accuracy'],color='b',label='Validation Accuracy')\n",
        "plt.legend(loc='upper right')\n",
        "\n",
        "\n",
        "plt.show()"
      ],
      "metadata": {
        "colab": {
          "base_uri": "https://localhost:8080/",
          "height": 233
        },
        "id": "MW5-anZSbAV5",
        "outputId": "f28f1ce5-b988-4c08-c06f-845e266c476f"
      },
      "execution_count": null,
      "outputs": [
        {
          "output_type": "display_data",
          "data": {
            "text/plain": [
              "<Figure size 1008x216 with 2 Axes>"
            ],
            "image/png": "[encoded data removed]"
          },
          "metadata": {
            "needs_background": "light"
          }
        }
      ]
    },
    {
      "cell_type": "code",
      "source": [],
      "metadata": {
        "id": "ZP06SWbOnyKF"
      },
      "execution_count": null,
      "outputs": []
    }
  ]
}