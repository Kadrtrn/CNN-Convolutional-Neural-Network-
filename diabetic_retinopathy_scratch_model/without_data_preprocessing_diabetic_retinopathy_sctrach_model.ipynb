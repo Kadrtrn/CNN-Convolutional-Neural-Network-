{
  "nbformat": 4,
  "nbformat_minor": 0,
  "metadata": {
    "colab": {
      "provenance": [],
      "collapsed_sections": []
    },
    "kernelspec": {
      "name": "python3",
      "display_name": "Python 3"
    },
    "language_info": {
      "name": "python"
    },
    "accelerator": "GPU",
    "widgets": {
      "application/vnd.jupyter.widget-state+json": {
        "114529255487480dba43228283275412": {
          "model_module": "@jupyter-widgets/controls",
          "model_name": "HBoxModel",
          "model_module_version": "1.5.0",
          "state": {
            "_dom_classes": [],
            "_model_module": "@jupyter-widgets/controls",
            "_model_module_version": "1.5.0",
            "_model_name": "HBoxModel",
            "_view_count": null,
            "_view_module": "@jupyter-widgets/controls",
            "_view_module_version": "1.5.0",
            "_view_name": "HBoxView",
            "box_style": "",
            "children": [
              "IPY_MODEL_e2a8529b73404aecb154b08740113aa9",
              "IPY_MODEL_dd99a52b508f499e96da56a1df70f64c",
              "IPY_MODEL_bef0a2f3ec72410fa802b04addd554b2"
            ],
            "layout": "IPY_MODEL_b549b045a20a4524b8fd6dcdcbfd9cdb"
          }
        },
        "e2a8529b73404aecb154b08740113aa9": {
          "model_module": "@jupyter-widgets/controls",
          "model_name": "HTMLModel",
          "model_module_version": "1.5.0",
          "state": {
            "_dom_classes": [],
            "_model_module": "@jupyter-widgets/controls",
            "_model_module_version": "1.5.0",
            "_model_name": "HTMLModel",
            "_view_count": null,
            "_view_module": "@jupyter-widgets/controls",
            "_view_module_version": "1.5.0",
            "_view_name": "HTMLView",
            "description": "",
            "description_tooltip": null,
            "layout": "IPY_MODEL_0d6fcb6a82d04dfb98e15b18d411b392",
            "placeholder": "​",
            "style": "IPY_MODEL_54e7d81d27304de784ce8a63b0a226bf",
            "value": "100%"
          }
        },
        "dd99a52b508f499e96da56a1df70f64c": {
          "model_module": "@jupyter-widgets/controls",
          "model_name": "FloatProgressModel",
          "model_module_version": "1.5.0",
          "state": {
            "_dom_classes": [],
            "_model_module": "@jupyter-widgets/controls",
            "_model_module_version": "1.5.0",
            "_model_name": "FloatProgressModel",
            "_view_count": null,
            "_view_module": "@jupyter-widgets/controls",
            "_view_module_version": "1.5.0",
            "_view_name": "ProgressView",
            "bar_style": "success",
            "description": "",
            "description_tooltip": null,
            "layout": "IPY_MODEL_b9816ea2e2bc4ade8f7a70472ef8ace5",
            "max": 3662,
            "min": 0,
            "orientation": "horizontal",
            "style": "IPY_MODEL_087f2b9024c848759ee4734e8bdb1661",
            "value": 3662
          }
        },
        "bef0a2f3ec72410fa802b04addd554b2": {
          "model_module": "@jupyter-widgets/controls",
          "model_name": "HTMLModel",
          "model_module_version": "1.5.0",
          "state": {
            "_dom_classes": [],
            "_model_module": "@jupyter-widgets/controls",
            "_model_module_version": "1.5.0",
            "_model_name": "HTMLModel",
            "_view_count": null,
            "_view_module": "@jupyter-widgets/controls",
            "_view_module_version": "1.5.0",
            "_view_name": "HTMLView",
            "description": "",
            "description_tooltip": null,
            "layout": "IPY_MODEL_7ff1f28b5407412b8bdc6964ef917819",
            "placeholder": "​",
            "style": "IPY_MODEL_9697701beb4a4bf9bdf56bccc5ddd50a",
            "value": " 3662/3662 [12:55&lt;00:00,  1.60it/s]"
          }
        },
        "b549b045a20a4524b8fd6dcdcbfd9cdb": {
          "model_module": "@jupyter-widgets/base",
          "model_name": "LayoutModel",
          "model_module_version": "1.2.0",
          "state": {
            "_model_module": "@jupyter-widgets/base",
            "_model_module_version": "1.2.0",
            "_model_name": "LayoutModel",
            "_view_count": null,
            "_view_module": "@jupyter-widgets/base",
            "_view_module_version": "1.2.0",
            "_view_name": "LayoutView",
            "align_content": null,
            "align_items": null,
            "align_self": null,
            "border": null,
            "bottom": null,
            "display": null,
            "flex": null,
            "flex_flow": null,
            "grid_area": null,
            "grid_auto_columns": null,
            "grid_auto_flow": null,
            "grid_auto_rows": null,
            "grid_column": null,
            "grid_gap": null,
            "grid_row": null,
            "grid_template_areas": null,
            "grid_template_columns": null,
            "grid_template_rows": null,
            "height": null,
            "justify_content": null,
            "justify_items": null,
            "left": null,
            "margin": null,
            "max_height": null,
            "max_width": null,
            "min_height": null,
            "min_width": null,
            "object_fit": null,
            "object_position": null,
            "order": null,
            "overflow": null,
            "overflow_x": null,
            "overflow_y": null,
            "padding": null,
            "right": null,
            "top": null,
            "visibility": null,
            "width": null
          }
        },
        "0d6fcb6a82d04dfb98e15b18d411b392": {
          "model_module": "@jupyter-widgets/base",
          "model_name": "LayoutModel",
          "model_module_version": "1.2.0",
          "state": {
            "_model_module": "@jupyter-widgets/base",
            "_model_module_version": "1.2.0",
            "_model_name": "LayoutModel",
            "_view_count": null,
            "_view_module": "@jupyter-widgets/base",
            "_view_module_version": "1.2.0",
            "_view_name": "LayoutView",
            "align_content": null,
            "align_items": null,
            "align_self": null,
            "border": null,
            "bottom": null,
            "display": null,
            "flex": null,
            "flex_flow": null,
            "grid_area": null,
            "grid_auto_columns": null,
            "grid_auto_flow": null,
            "grid_auto_rows": null,
            "grid_column": null,
            "grid_gap": null,
            "grid_row": null,
            "grid_template_areas": null,
            "grid_template_columns": null,
            "grid_template_rows": null,
            "height": null,
            "justify_content": null,
            "justify_items": null,
            "left": null,
            "margin": null,
            "max_height": null,
            "max_width": null,
            "min_height": null,
            "min_width": null,
            "object_fit": null,
            "object_position": null,
            "order": null,
            "overflow": null,
            "overflow_x": null,
            "overflow_y": null,
            "padding": null,
            "right": null,
            "top": null,
            "visibility": null,
            "width": null
          }
        },
        "54e7d81d27304de784ce8a63b0a226bf": {
          "model_module": "@jupyter-widgets/controls",
          "model_name": "DescriptionStyleModel",
          "model_module_version": "1.5.0",
          "state": {
            "_model_module": "@jupyter-widgets/controls",
            "_model_module_version": "1.5.0",
            "_model_name": "DescriptionStyleModel",
            "_view_count": null,
            "_view_module": "@jupyter-widgets/base",
            "_view_module_version": "1.2.0",
            "_view_name": "StyleView",
            "description_width": ""
          }
        },
        "b9816ea2e2bc4ade8f7a70472ef8ace5": {
          "model_module": "@jupyter-widgets/base",
          "model_name": "LayoutModel",
          "model_module_version": "1.2.0",
          "state": {
            "_model_module": "@jupyter-widgets/base",
            "_model_module_version": "1.2.0",
            "_model_name": "LayoutModel",
            "_view_count": null,
            "_view_module": "@jupyter-widgets/base",
            "_view_module_version": "1.2.0",
            "_view_name": "LayoutView",
            "align_content": null,
            "align_items": null,
            "align_self": null,
            "border": null,
            "bottom": null,
            "display": null,
            "flex": null,
            "flex_flow": null,
            "grid_area": null,
            "grid_auto_columns": null,
            "grid_auto_flow": null,
            "grid_auto_rows": null,
            "grid_column": null,
            "grid_gap": null,
            "grid_row": null,
            "grid_template_areas": null,
            "grid_template_columns": null,
            "grid_template_rows": null,
            "height": null,
            "justify_content": null,
            "justify_items": null,
            "left": null,
            "margin": null,
            "max_height": null,
            "max_width": null,
            "min_height": null,
            "min_width": null,
            "object_fit": null,
            "object_position": null,
            "order": null,
            "overflow": null,
            "overflow_x": null,
            "overflow_y": null,
            "padding": null,
            "right": null,
            "top": null,
            "visibility": null,
            "width": null
          }
        },
        "087f2b9024c848759ee4734e8bdb1661": {
          "model_module": "@jupyter-widgets/controls",
          "model_name": "ProgressStyleModel",
          "model_module_version": "1.5.0",
          "state": {
            "_model_module": "@jupyter-widgets/controls",
            "_model_module_version": "1.5.0",
            "_model_name": "ProgressStyleModel",
            "_view_count": null,
            "_view_module": "@jupyter-widgets/base",
            "_view_module_version": "1.2.0",
            "_view_name": "StyleView",
            "bar_color": null,
            "description_width": ""
          }
        },
        "7ff1f28b5407412b8bdc6964ef917819": {
          "model_module": "@jupyter-widgets/base",
          "model_name": "LayoutModel",
          "model_module_version": "1.2.0",
          "state": {
            "_model_module": "@jupyter-widgets/base",
            "_model_module_version": "1.2.0",
            "_model_name": "LayoutModel",
            "_view_count": null,
            "_view_module": "@jupyter-widgets/base",
            "_view_module_version": "1.2.0",
            "_view_name": "LayoutView",
            "align_content": null,
            "align_items": null,
            "align_self": null,
            "border": null,
            "bottom": null,
            "display": null,
            "flex": null,
            "flex_flow": null,
            "grid_area": null,
            "grid_auto_columns": null,
            "grid_auto_flow": null,
            "grid_auto_rows": null,
            "grid_column": null,
            "grid_gap": null,
            "grid_row": null,
            "grid_template_areas": null,
            "grid_template_columns": null,
            "grid_template_rows": null,
            "height": null,
            "justify_content": null,
            "justify_items": null,
            "left": null,
            "margin": null,
            "max_height": null,
            "max_width": null,
            "min_height": null,
            "min_width": null,
            "object_fit": null,
            "object_position": null,
            "order": null,
            "overflow": null,
            "overflow_x": null,
            "overflow_y": null,
            "padding": null,
            "right": null,
            "top": null,
            "visibility": null,
            "width": null
          }
        },
        "9697701beb4a4bf9bdf56bccc5ddd50a": {
          "model_module": "@jupyter-widgets/controls",
          "model_name": "DescriptionStyleModel",
          "model_module_version": "1.5.0",
          "state": {
            "_model_module": "@jupyter-widgets/controls",
            "_model_module_version": "1.5.0",
            "_model_name": "DescriptionStyleModel",
            "_view_count": null,
            "_view_module": "@jupyter-widgets/base",
            "_view_module_version": "1.2.0",
            "_view_name": "StyleView",
            "description_width": ""
          }
        }
      }
    }
  },
  "cells": [
    {
      "cell_type": "code",
      "execution_count": null,
      "metadata": {
        "colab": {
          "base_uri": "https://localhost:8080/"
        },
        "id": "Oz2wwAnZ-KiU",
        "outputId": "310dfd0d-dacf-4f7a-ef96-587472a22a91"
      },
      "outputs": [
        {
          "output_type": "stream",
          "name": "stdout",
          "text": [
            "Drive already mounted at /content/drive; to attempt to forcibly remount, call drive.mount(\"/content/drive\", force_remount=True).\n"
          ]
        }
      ],
      "source": [
        "from google.colab import drive\n",
        "drive.mount('/content/drive')"
      ]
    },
    {
      "cell_type": "code",
      "source": [
        "import pandas as pd \n",
        "df=pd.read_csv('/content/drive/MyDrive/diyabetik_retinopi_veri_seti /train.csv',sep=',')"
      ],
      "metadata": {
        "id": "SmXojvFA-WZ6"
      },
      "execution_count": null,
      "outputs": []
    },
    {
      "cell_type": "code",
      "source": [
        "import os \n",
        "files=os.listdir('/content/drive/MyDrive/diyabetik_retinopi_veri_seti /train_images')\n",
        "files.sort()"
      ],
      "metadata": {
        "id": "7IjFxs4P-hNw"
      },
      "execution_count": null,
      "outputs": []
    },
    {
      "cell_type": "code",
      "source": [
        "#Ram yetmediği için resim boyutunu 400 400 den 300 300 e indiriyorum\n",
        "\n",
        "import cv2 \n",
        "img_list=[]\n",
        "from tqdm import tqdm_notebook as tqdm\n",
        "for i in tqdm(files):\n",
        "\n",
        "  image=cv2.imread('/content/drive/MyDrive/diyabetik_retinopi_veri_seti /train_images//' + i)\n",
        "  image=cv2.resize(image,(300,300))\n",
        "  image=cv2.cvtColor(image,cv2.COLOR_BGR2RGB)\n",
        "  img_list.append(image)"
      ],
      "metadata": {
        "colab": {
          "base_uri": "https://localhost:8080/",
          "height": 101,
          "referenced_widgets": [
            "114529255487480dba43228283275412",
            "e2a8529b73404aecb154b08740113aa9",
            "dd99a52b508f499e96da56a1df70f64c",
            "bef0a2f3ec72410fa802b04addd554b2",
            "b549b045a20a4524b8fd6dcdcbfd9cdb",
            "0d6fcb6a82d04dfb98e15b18d411b392",
            "54e7d81d27304de784ce8a63b0a226bf",
            "b9816ea2e2bc4ade8f7a70472ef8ace5",
            "087f2b9024c848759ee4734e8bdb1661",
            "7ff1f28b5407412b8bdc6964ef917819",
            "9697701beb4a4bf9bdf56bccc5ddd50a"
          ]
        },
        "id": "yNHkBx46-kG4",
        "outputId": "04d8df4f-b9e9-4831-e838-a032667f9ac6"
      },
      "execution_count": null,
      "outputs": [
        {
          "output_type": "stream",
          "name": "stderr",
          "text": [
            "/usr/local/lib/python3.7/dist-packages/ipykernel_launcher.py:6: TqdmDeprecationWarning: This function will be removed in tqdm==5.0.0\n",
            "Please use `tqdm.notebook.tqdm` instead of `tqdm.tqdm_notebook`\n",
            "  \n"
          ]
        },
        {
          "output_type": "display_data",
          "data": {
            "text/plain": [
              "  0%|          | 0/3662 [00:00<?, ?it/s]"
            ],
            "application/vnd.jupyter.widget-view+json": {
              "version_major": 2,
              "version_minor": 0,
              "model_id": "114529255487480dba43228283275412"
            }
          },
          "metadata": {}
        }
      ]
    },
    {
      "cell_type": "code",
      "source": [
        "y_train=pd.get_dummies(df['diagnosis']).values\n",
        "import numpy as np\n",
        "y_train_son=np.ones(y_train.shape,dtype='uint8')\n",
        "y_train_son[:,4]=y_train[:,4]\n",
        "for i in range(3,-1,-1):\n",
        "  y_train_son[:,i]=np.logical_or(y_train[:,i],y_train_son[:,i+1])\n",
        "x_train=np.array(img_list)\n",
        "\n",
        "x_train = x_train.astype(np.float32)\n",
        "x_train=x_train/255\n",
        "x_train=x_train.astype(np.uint8)\n",
        "\n",
        "\n",
        "\n",
        "from sklearn.model_selection import train_test_split\n",
        "x_train,x_val,y_train,y_val=train_test_split(x_train,\n",
        "                                             y_train_son,\n",
        "                                             test_size=0.15,\n",
        "                                             random_state=42,\n",
        "                                             shuffle=True)\n",
        "\n",
        "from keras.preprocessing.image import ImageDataGenerator\n",
        "datagen=ImageDataGenerator(horizontal_flip=False,vertical_flip=False)\n",
        "data_generator=datagen.flow(x_train,y_train,batch_size=2,seed=2020)"
      ],
      "metadata": {
        "id": "eNN3eqW4-17l"
      },
      "execution_count": null,
      "outputs": []
    },
    {
      "cell_type": "code",
      "source": [
        "import keras \n",
        "from keras.models import Sequential,Model\n",
        "from keras.layers import Dense, Conv2D, Activation, MaxPool2D, Flatten, Dropout, BatchNormalization,AveragePooling2D\n",
        "from keras.optimizers import Adam \n",
        "from keras import layers"
      ],
      "metadata": {
        "id": "p4XwRqFW_BFF"
      },
      "execution_count": null,
      "outputs": []
    },
    {
      "cell_type": "code",
      "source": [
        "model = Sequential()\n",
        "\n",
        "#1. katman\n",
        "model.add(Conv2D(64, 3, data_format=\"channels_last\", kernel_initializer=\"he_normal\", input_shape=(300,300,3),activation='swish'))\n",
        "model.add(BatchNormalization())\n",
        "\n",
        "#2.katman\n",
        "\n",
        "model.add(Conv2D(64, 3,activation='swish'))\n",
        "model.add(BatchNormalization())\n",
        "model.add(MaxPool2D(pool_size=(2,2)))\n",
        "model.add(Dropout(0.25)) \n",
        "\n",
        "#3. katman\n",
        "model.add(Conv2D(32, 3,activation='swish'))\n",
        "model.add(BatchNormalization())\n",
        "\n",
        "\n",
        "#4. katman\n",
        "model.add(Conv2D(32, 3,activation='swish'))\n",
        "model.add(BatchNormalization())\n",
        "\n",
        "#5. katman\n",
        "model.add(Conv2D(32, 3,activation='swish'))\n",
        "model.add(BatchNormalization())\n",
        "model.add(MaxPool2D(pool_size=(2,2)))\n",
        "model.add(Dropout(0.25))\n",
        "\n",
        "#Tam bağlantı katmanı\n",
        "model.add(Flatten())\n",
        "model.add(Dense(128,activation='swish'))\n",
        "model.add(BatchNormalization())\n",
        "model.add(Dropout(0.2))\n",
        "\n",
        "# Çıkış katmanı\n",
        "\n",
        "model.add(Dense(5))\n",
        "model.add(Activation('softmax'))\n",
        "\n",
        "model.compile(loss='categorical_crossentropy',optimizer=Adam(lr=0.00005),metrics=['accuracy'])\n",
        "\n",
        "from keras.callbacks import  ReduceLROnPlateau\n",
        "\n",
        "lr=ReduceLROnPlateau(monitor='val_loss',\n",
        "                     patience=3,\n",
        "                     verbose=1,\n",
        "                     mode='auto',\n",
        "                     factor=0.25,\n",
        "                     min_lr=0.000001)\n",
        "                     \n",
        "model.summary()\n"
      ],
      "metadata": {
        "colab": {
          "base_uri": "https://localhost:8080/"
        },
        "id": "UAh9bcr3_Cdr",
        "outputId": "e7bdd612-6aa9-496e-b227-d3b0ce18aeb3"
      },
      "execution_count": null,
      "outputs": [
        {
          "output_type": "stream",
          "name": "stdout",
          "text": [
            "Model: \"sequential\"\n",
            "_________________________________________________________________\n",
            " Layer (type)                Output Shape              Param #   \n",
            "=================================================================\n",
            " conv2d (Conv2D)             (None, 298, 298, 64)      1792      \n",
            "                                                                 \n",
            " batch_normalization (BatchN  (None, 298, 298, 64)     256       \n",
            " ormalization)                                                   \n",
            "                                                                 \n",
            " conv2d_1 (Conv2D)           (None, 296, 296, 64)      36928     \n",
            "                                                                 \n",
            " batch_normalization_1 (Batc  (None, 296, 296, 64)     256       \n",
            " hNormalization)                                                 \n",
            "                                                                 \n",
            " max_pooling2d (MaxPooling2D  (None, 148, 148, 64)     0         \n",
            " )                                                               \n",
            "                                                                 \n",
            " dropout (Dropout)           (None, 148, 148, 64)      0         \n",
            "                                                                 \n",
            " conv2d_2 (Conv2D)           (None, 146, 146, 32)      18464     \n",
            "                                                                 \n",
            " batch_normalization_2 (Batc  (None, 146, 146, 32)     128       \n",
            " hNormalization)                                                 \n",
            "                                                                 \n",
            " conv2d_3 (Conv2D)           (None, 144, 144, 32)      9248      \n",
            "                                                                 \n",
            " batch_normalization_3 (Batc  (None, 144, 144, 32)     128       \n",
            " hNormalization)                                                 \n",
            "                                                                 \n",
            " conv2d_4 (Conv2D)           (None, 142, 142, 32)      9248      \n",
            "                                                                 \n",
            " batch_normalization_4 (Batc  (None, 142, 142, 32)     128       \n",
            " hNormalization)                                                 \n",
            "                                                                 \n",
            " max_pooling2d_1 (MaxPooling  (None, 71, 71, 32)       0         \n",
            " 2D)                                                             \n",
            "                                                                 \n",
            " dropout_1 (Dropout)         (None, 71, 71, 32)        0         \n",
            "                                                                 \n",
            " flatten (Flatten)           (None, 161312)            0         \n",
            "                                                                 \n",
            " dense (Dense)               (None, 128)               20648064  \n",
            "                                                                 \n",
            " batch_normalization_5 (Batc  (None, 128)              512       \n",
            " hNormalization)                                                 \n",
            "                                                                 \n",
            " dropout_2 (Dropout)         (None, 128)               0         \n",
            "                                                                 \n",
            " dense_1 (Dense)             (None, 5)                 645       \n",
            "                                                                 \n",
            " activation (Activation)     (None, 5)                 0         \n",
            "                                                                 \n",
            "=================================================================\n",
            "Total params: 20,725,797\n",
            "Trainable params: 20,725,093\n",
            "Non-trainable params: 704\n",
            "_________________________________________________________________\n"
          ]
        },
        {
          "output_type": "stream",
          "name": "stderr",
          "text": [
            "/usr/local/lib/python3.7/dist-packages/keras/optimizers/optimizer_v2/adam.py:110: UserWarning: The `lr` argument is deprecated, use `learning_rate` instead.\n",
            "  super(Adam, self).__init__(name, **kwargs)\n"
          ]
        }
      ]
    },
    {
      "cell_type": "code",
      "source": [
        "history=model.fit_generator(data_generator,\n",
        "                            steps_per_epoch=1000,\n",
        "                            epochs=15,\n",
        "                            validation_data=(x_val,y_val),\n",
        "                            callbacks=[lr])"
      ],
      "metadata": {
        "colab": {
          "base_uri": "https://localhost:8080/"
        },
        "id": "c1nZ_jBH_EpY",
        "outputId": "42ed432c-da85-491f-d945-c674c90cd9d0"
      },
      "execution_count": null,
      "outputs": [
        {
          "output_type": "stream",
          "name": "stderr",
          "text": [
            "/usr/local/lib/python3.7/dist-packages/ipykernel_launcher.py:5: UserWarning: `Model.fit_generator` is deprecated and will be removed in a future version. Please use `Model.fit`, which supports generators.\n",
            "  \"\"\"\n"
          ]
        },
        {
          "output_type": "stream",
          "name": "stdout",
          "text": [
            "Epoch 1/15\n",
            "1000/1000 [==============================] - 58s 43ms/step - loss: 4.3283 - accuracy: 0.2595 - val_loss: 4.0841 - val_accuracy: 0.4382 - lr: 5.0000e-05\n",
            "Epoch 2/15\n",
            "1000/1000 [==============================] - 39s 39ms/step - loss: 3.8811 - accuracy: 0.4030 - val_loss: 4.3939 - val_accuracy: 0.6327 - lr: 5.0000e-05\n",
            "Epoch 3/15\n",
            "1000/1000 [==============================] - 40s 40ms/step - loss: 3.6988 - accuracy: 0.5220 - val_loss: 4.9183 - val_accuracy: 0.7091 - lr: 5.0000e-05\n",
            "Epoch 4/15\n",
            " 999/1000 [============================>.] - ETA: 0s - loss: 3.5167 - accuracy: 0.6512\n",
            "Epoch 4: ReduceLROnPlateau reducing learning rate to 1.249999968422344e-05.\n",
            "1000/1000 [==============================] - 40s 40ms/step - loss: 3.5156 - accuracy: 0.6510 - val_loss: 4.8731 - val_accuracy: 0.7618 - lr: 5.0000e-05\n",
            "Epoch 5/15\n",
            "1000/1000 [==============================] - 40s 40ms/step - loss: 3.4813 - accuracy: 0.7295 - val_loss: 5.3829 - val_accuracy: 0.8309 - lr: 1.2500e-05\n",
            "Epoch 6/15\n",
            "1000/1000 [==============================] - 40s 40ms/step - loss: 3.5657 - accuracy: 0.7440 - val_loss: 4.9211 - val_accuracy: 0.8309 - lr: 1.2500e-05\n",
            "Epoch 7/15\n",
            " 999/1000 [============================>.] - ETA: 0s - loss: 3.5974 - accuracy: 0.7793\n",
            "Epoch 7: ReduceLROnPlateau reducing learning rate to 3.12499992105586e-06.\n",
            "1000/1000 [==============================] - 40s 40ms/step - loss: 3.5985 - accuracy: 0.7795 - val_loss: 5.5417 - val_accuracy: 0.8455 - lr: 1.2500e-05\n",
            "Epoch 8/15\n",
            "1000/1000 [==============================] - 40s 40ms/step - loss: 3.5361 - accuracy: 0.7935 - val_loss: 4.9241 - val_accuracy: 0.8600 - lr: 3.1250e-06\n",
            "Epoch 9/15\n",
            "1000/1000 [==============================] - 40s 40ms/step - loss: 3.5608 - accuracy: 0.8145 - val_loss: 4.5365 - val_accuracy: 0.8636 - lr: 3.1250e-06\n",
            "Epoch 10/15\n",
            " 999/1000 [============================>.] - ETA: 0s - loss: 3.6069 - accuracy: 0.7908\n",
            "Epoch 10: ReduceLROnPlateau reducing learning rate to 1e-06.\n",
            "1000/1000 [==============================] - 40s 40ms/step - loss: 3.6057 - accuracy: 0.7910 - val_loss: 4.9206 - val_accuracy: 0.8764 - lr: 3.1250e-06\n",
            "Epoch 11/15\n",
            "1000/1000 [==============================] - 40s 40ms/step - loss: 3.5943 - accuracy: 0.8005 - val_loss: 4.9340 - val_accuracy: 0.8636 - lr: 1.0000e-06\n",
            "Epoch 12/15\n",
            "1000/1000 [==============================] - 40s 40ms/step - loss: 3.5140 - accuracy: 0.8095 - val_loss: 4.9483 - val_accuracy: 0.8636 - lr: 1.0000e-06\n",
            "Epoch 13/15\n",
            "1000/1000 [==============================] - 40s 40ms/step - loss: 3.5310 - accuracy: 0.8025 - val_loss: 4.9277 - val_accuracy: 0.8800 - lr: 1.0000e-06\n",
            "Epoch 14/15\n",
            "1000/1000 [==============================] - 40s 40ms/step - loss: 3.5425 - accuracy: 0.8105 - val_loss: 4.7795 - val_accuracy: 0.8782 - lr: 1.0000e-06\n",
            "Epoch 15/15\n",
            "1000/1000 [==============================] - 40s 40ms/step - loss: 3.6432 - accuracy: 0.7980 - val_loss: 4.8879 - val_accuracy: 0.8491 - lr: 1.0000e-06\n"
          ]
        }
      ]
    },
    {
      "cell_type": "code",
      "source": [
        "from matplotlib import pyplot as plt \n",
        "plt.figure(figsize=(14,3))\n",
        "plt.subplot(1,2,1)\n",
        "plt.suptitle('Train',fontsize=10)\n",
        "plt.ylabel('Loss',fontsize=18)\n",
        "plt.plot(history.history['loss'],color='r',label='Traning Loss')\n",
        "plt.plot(history.history['val_loss'],color='b',label='Validation Loss')\n",
        "plt.legend(loc='upper right')\n",
        "\n",
        "plt.subplot(1,2,2)\n",
        "plt.ylabel('Accuracy',fontsize=18)\n",
        "plt.plot(history.history['accuracy'],color='r',label='Accuracy')\n",
        "plt.plot(history.history['val_accuracy'],color='b',label='Validation Accuracy')\n",
        "plt.legend(loc='upper right')\n",
        "\n",
        "\n",
        "plt.show()"
      ],
      "metadata": {
        "colab": {
          "base_uri": "https://localhost:8080/",
          "height": 233
        },
        "id": "7sXVkwOM_Gkv",
        "outputId": "70147e07-5284-40f0-aee7-3a9255f7a736"
      },
      "execution_count": null,
      "outputs": [
        {
          "output_type": "display_data",
          "data": {
            "text/plain": [
              "<Figure size 1008x216 with 2 Axes>"
            ],
            "image/png": "[encoded data removed]"
          },
          "metadata": {
            "needs_background": "light"
          }
        }
      ]
    },
    {
      "cell_type": "code",
      "source": [],
      "metadata": {
        "id": "wZICsiEr_Ii1"
      },
      "execution_count": null,
      "outputs": []
    }
  ]
}